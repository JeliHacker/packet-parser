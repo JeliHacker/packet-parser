{
 "cells": [
  {
   "cell_type": "code",
   "execution_count": 7,
   "metadata": {},
   "outputs": [
    {
     "name": "stdout",
     "output_type": "stream",
     "text": [
      "Number of questions in test set: 49822\n"
     ]
    }
   ],
   "source": [
    "import json\n",
    "import time\n",
    "\n",
    "import numpy as np\n",
    "import seaborn as sn\n",
    "\n",
    "from classify import classify_subcategory\n",
    "\n",
    "np.random.seed(0)\n",
    "\n",
    "questions = open('tossups.json').readlines() + open('bonuses.json').readlines()\n",
    "np.random.shuffle(questions)\n",
    "questions = questions[:int(0.2*len(questions))]\n",
    "print('Number of questions in test set:', len(questions))\n",
    "\n",
    "with open('subcategories.txt') as f:\n",
    "    SUBCATEGORIES = [line.strip() for line in f.readlines()]"
   ]
  },
  {
   "cell_type": "code",
   "execution_count": 8,
   "metadata": {},
   "outputs": [
    {
     "name": "stdout",
     "output_type": "stream",
     "text": [
      "=====Begin Testing=====\n",
      "8300/10000\n",
      "16614/20000\n",
      "24951/30000\n",
      "33257/40000\n",
      "=====End Testing=====\n",
      "Accuracy: 83.23360706474642% (40340/48466)\n",
      "Time: 27.263177768996684 seconds\n"
     ]
    }
   ],
   "source": [
    "EPSILON = 0.00001\n",
    "\n",
    "print('=====Begin Testing=====')\n",
    "time_now = time.perf_counter()\n",
    "\n",
    "counter = 0\n",
    "correct = 0\n",
    "confusion_matrix = [[0 for _ in range(len(SUBCATEGORIES))] for _ in range(len(SUBCATEGORIES))]\n",
    "\n",
    "for line in questions:\n",
    "    data = json.loads(line)\n",
    "\n",
    "    if 'subcategory' not in data:\n",
    "        continue\n",
    "\n",
    "    subcategory = data['subcategory']\n",
    "\n",
    "    if subcategory not in SUBCATEGORIES:\n",
    "        continue\n",
    "\n",
    "    counter += 1\n",
    "\n",
    "    if data['type'] == 'tossup':\n",
    "        prediction = classify_subcategory(data['question'] + ' ' + data['answer'], EPSILON)\n",
    "\n",
    "    if data['type'] == 'bonus' and 'parts' in data and len(data['parts']) == 3:\n",
    "        prediction = classify_subcategory(data['leadin'] + ' ' + ' '.join(data['parts']) + ' ' + ' '.join(data['answers']), EPSILON)\n",
    "\n",
    "    subcategory_index = SUBCATEGORIES.index(subcategory)\n",
    "    prediction_index = SUBCATEGORIES.index(prediction)\n",
    "\n",
    "    confusion_matrix[subcategory_index][prediction_index] += 1\n",
    "\n",
    "    if subcategory == prediction:\n",
    "        correct += 1\n",
    "\n",
    "    if counter % 10000 == 0:\n",
    "        print(f'{correct}/{counter}')\n",
    "\n",
    "print('=====End Testing=====')\n",
    "print(f'Accuracy: {100 * correct / counter}% ({correct}/{counter})')\n",
    "print(f'Time: {time.perf_counter() - time_now} seconds')"
   ]
  },
  {
   "cell_type": "code",
   "execution_count": 9,
   "metadata": {},
   "outputs": [
    {
     "name": "stdout",
     "output_type": "stream",
     "text": [
      "American Literature:  2608/3266  (79.85%)\n",
      "British Literature:   2302/2650  (86.87%)\n",
      "European Literature:  1844/2126  (86.74%)\n",
      "World Literature:     1310/1570  (83.44%)\n",
      "American History:     2552/3193  (79.92%)\n",
      "Ancient History:      511/609    (83.91%)\n",
      "European History:     2993/3839  (77.96%)\n",
      "World History:        2137/2772  (77.09%)\n",
      "Biology:              2315/2618  (88.43%)\n",
      "Chemistry:            1899/2186  (86.87%)\n",
      "Physics:              2356/2707  (87.03%)\n",
      "Math:                 712/790    (90.13%)\n",
      "Other Science:        1359/1796  (75.67%)\n",
      "Visual Fine Arts:     2539/2932  (86.6%)\n",
      "Auditory Fine Arts:   2348/2793  (84.07%)\n",
      "Other Fine Arts:      958/1377   (69.57%)\n",
      "Religion:             1664/1897  (87.72%)\n",
      "Mythology:            2169/2445  (88.71%)\n",
      "Philosophy:           1831/2066  (88.63%)\n",
      "Social Science:       1547/1806  (85.66%)\n",
      "Current Events:       297/435    (68.28%)\n",
      "Geography:            1230/1518  (81.03%)\n",
      "Trash:                859/1075   (79.91%)\n"
     ]
    }
   ],
   "source": [
    "for i, subcat in enumerate(SUBCATEGORIES):\n",
    "    accuracy = 0.0 if sum(confusion_matrix[i]) == 0 else confusion_matrix[i][i] / sum(confusion_matrix[i])\n",
    "    accuracy = round(100 * accuracy, 2)\n",
    "    print(f'{subcat + \":\":21} {str(confusion_matrix[i][i]) + \"/\" + str(sum(confusion_matrix[i])):10} ({accuracy}%)')"
   ]
  },
  {
   "cell_type": "code",
   "execution_count": 10,
   "metadata": {},
   "outputs": [
    {
     "name": "stdout",
     "output_type": "stream",
     "text": [
      "Confusion Matrix:\n",
      "American Literature  [2608, 123, 116, 104, 32, 1, 13, 7, 3, 3, 6, 1, 2, 7, 1, 31, 13, 11, 32, 22, 4, 4, 122]\n",
      "British Literature   [98, 2302, 66, 52, 9, 5, 19, 6, 2, 4, 2, 0, 3, 3, 0, 13, 8, 17, 7, 11, 0, 3, 20]\n",
      "European Literature  [49, 72, 1844, 47, 1, 3, 18, 7, 2, 4, 0, 1, 1, 4, 2, 9, 8, 22, 10, 3, 4, 2, 13]\n",
      "World Literature     [71, 36, 58, 1310, 5, 3, 1, 15, 1, 1, 1, 3, 0, 1, 2, 7, 7, 17, 12, 3, 3, 2, 11]\n",
      "American History     [48, 14, 5, 5, 2552, 15, 75, 77, 4, 6, 4, 1, 6, 9, 7, 18, 22, 7, 13, 29, 125, 78, 73]\n",
      "Ancient History      [3, 3, 1, 1, 3, 511, 29, 19, 0, 0, 3, 1, 1, 1, 2, 0, 10, 10, 2, 1, 0, 7, 1]\n",
      "European History     [15, 25, 13, 6, 96, 182, 2993, 134, 6, 5, 3, 1, 7, 26, 11, 24, 41, 9, 30, 28, 55, 101, 28]\n",
      "World History        [8, 9, 1, 23, 48, 107, 102, 2137, 0, 6, 1, 0, 4, 12, 3, 16, 31, 13, 8, 15, 104, 108, 16]\n",
      "Biology              [8, 3, 8, 5, 16, 4, 6, 6, 2315, 62, 14, 6, 53, 1, 4, 8, 6, 6, 2, 51, 8, 19, 7]\n",
      "Chemistry            [0, 3, 2, 0, 2, 4, 5, 1, 41, 1899, 163, 5, 31, 2, 0, 5, 2, 1, 2, 6, 4, 5, 3]\n",
      "Physics              [1, 2, 4, 1, 12, 0, 4, 5, 2, 53, 2356, 123, 81, 4, 6, 2, 5, 1, 13, 17, 3, 4, 8]\n",
      "Math                 [2, 1, 0, 0, 2, 1, 3, 2, 2, 2, 10, 712, 34, 2, 3, 1, 1, 1, 4, 3, 2, 0, 2]\n",
      "Other Science        [7, 5, 3, 1, 10, 1, 2, 6, 21, 35, 56, 131, 1359, 4, 4, 6, 3, 6, 9, 75, 11, 27, 14]\n",
      "Visual Fine Arts     [33, 17, 20, 9, 17, 13, 21, 13, 4, 2, 1, 2, 1, 2539, 2, 133, 25, 5, 10, 8, 5, 15, 37]\n",
      "Auditory Fine Arts   [32, 19, 27, 12, 18, 3, 11, 7, 1, 3, 3, 1, 7, 3, 2348, 187, 13, 4, 6, 7, 6, 9, 66]\n",
      "Other Fine Arts      [15, 5, 8, 5, 12, 7, 7, 5, 0, 0, 0, 0, 5, 106, 135, 958, 5, 2, 5, 6, 7, 14, 70]\n",
      "Religion             [8, 9, 8, 10, 11, 18, 28, 25, 2, 1, 2, 0, 5, 10, 1, 5, 1664, 41, 19, 8, 5, 13, 4]\n",
      "Mythology            [16, 36, 19, 11, 4, 26, 11, 19, 1, 1, 5, 1, 2, 10, 3, 4, 54, 2169, 9, 11, 3, 17, 13]\n",
      "Philosophy           [14, 14, 20, 4, 7, 10, 9, 2, 3, 0, 4, 8, 8, 2, 2, 5, 23, 2, 1831, 86, 4, 2, 6]\n",
      "Social Science       [11, 2, 8, 4, 52, 3, 19, 5, 7, 4, 5, 3, 10, 3, 2, 5, 15, 5, 50, 1547, 13, 19, 14]\n",
      "Current Events       [1, 1, 0, 0, 36, 0, 9, 32, 4, 0, 1, 0, 4, 0, 1, 2, 4, 1, 2, 4, 297, 17, 19]\n",
      "Geography            [12, 4, 3, 1, 32, 5, 17, 60, 6, 3, 2, 1, 18, 4, 4, 44, 14, 2, 3, 10, 22, 1230, 21]\n",
      "Trash                [33, 8, 1, 4, 18, 0, 8, 2, 2, 1, 1, 1, 6, 7, 7, 77, 2, 9, 3, 6, 15, 5, 859]\n"
     ]
    }
   ],
   "source": [
    "print('Confusion Matrix:')\n",
    "for subcat, row in zip(SUBCATEGORIES, confusion_matrix):\n",
    "    print(f'{subcat:20}', row)"
   ]
  },
  {
   "cell_type": "code",
   "execution_count": 11,
   "metadata": {},
   "outputs": [
    {
     "data": {
      "text/plain": [
       "<AxesSubplot:>"
      ]
     },
     "execution_count": 11,
     "metadata": {},
     "output_type": "execute_result"
    },
    {
     "data": {
      "image/png": "[encoded data removed]",
      "text/plain": [
       "<Figure size 432x288 with 2 Axes>"
      ]
     },
     "metadata": {
      "needs_background": "light"
     },
     "output_type": "display_data"
    }
   ],
   "source": [
    "sn.heatmap(confusion_matrix, cmap='Greens', annot=False)"
   ]
  },
  {
   "cell_type": "code",
   "execution_count": 12,
   "metadata": {},
   "outputs": [
    {
     "data": {
      "text/plain": [
       "<AxesSubplot:>"
      ]
     },
     "execution_count": 12,
     "metadata": {},
     "output_type": "execute_result"
    },
    {
     "data": {
      "image/png": "[encoded data removed]",
      "text/plain": [
       "<Figure size 432x288 with 2 Axes>"
      ]
     },
     "metadata": {
      "needs_background": "light"
     },
     "output_type": "display_data"
    }
   ],
   "source": [
    "# use relative proportions instead of absolute values\n",
    "sn.heatmap([[confusion_matrix[i][j] / sum(confusion_matrix[i]) for j in range(len(confusion_matrix[i]))] for i in range(len(confusion_matrix))], cmap='Greens', annot=False)"
   ]
  },
  {
   "cell_type": "code",
   "execution_count": null,
   "metadata": {},
   "outputs": [],
   "source": []
  }
 ],
 "metadata": {
  "kernelspec": {
   "display_name": "Python 3.10.0 64-bit",
   "language": "python",
   "name": "python3"
  },
  "language_info": {
   "codemirror_mode": {
    "name": "ipython",
    "version": 3
   },
   "file_extension": ".py",
   "mimetype": "text/x-python",
   "name": "python",
   "nbconvert_exporter": "python",
   "pygments_lexer": "ipython3",
   "version": "3.10.0"
  },
  "orig_nbformat": 4,
  "vscode": {
   "interpreter": {
    "hash": "aee8b7b246df8f9039afb4144a1f6fd8d2ca17a180786b69acc140d282b71a49"
   }
  }
 },
 "nbformat": 4,
 "nbformat_minor": 2
}
