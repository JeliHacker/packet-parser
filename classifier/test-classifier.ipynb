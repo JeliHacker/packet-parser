{
 "cells": [
  {
   "cell_type": "code",
   "execution_count": 1,
   "metadata": {},
   "outputs": [
    {
     "name": "stdout",
     "output_type": "stream",
     "text": [
      "Time to load word-to-subcat-normalized: 2.7690207039704546 seconds\n",
      "=====Begin Testing=====\n",
      "7173/10000\n",
      "14353/20000\n",
      "21548/30000\n",
      "=====End Testing=====\n",
      "Accuracy: 0.7182126598428393 (24769/34487)\n",
      "Time: 11.652159490040503 seconds\n"
     ]
    }
   ],
   "source": [
    "import json\n",
    "import time\n",
    "\n",
    "import numpy as np\n",
    "import seaborn as sn\n",
    "from sklearn.metrics import ConfusionMatrixDisplay\n",
    "\n",
    "np.random.seed(0)\n",
    "\n",
    "def classify_subcategory(text):\n",
    "    likelihoods = [0 for _ in range(len(SUBCATEGORIES))]\n",
    "    text = set(removePunctuation(text).lower().split())\n",
    "    for token in text:\n",
    "        if token in stop_words:\n",
    "            continue\n",
    "\n",
    "        if token in word_to_subcat:\n",
    "            for i in range(len(SUBCATEGORIES)):\n",
    "                likelihoods[i] += word_to_subcat[token][i]\n",
    "        else:\n",
    "            # print('Token not in word-to-subcat:', token)\n",
    "            pass\n",
    "\n",
    "    return SUBCATEGORIES[likelihoods.index(max(likelihoods))]\n",
    "\n",
    "\n",
    "def hhi(arr):\n",
    "    return sum([_**2 for _ in arr]) / sum(arr) ** 2\n",
    "\n",
    "\n",
    "def normalized_hhi(arr):\n",
    "    return (hhi(arr) - 1/len(arr)) / (1 - 1/len(arr))\n",
    "\n",
    "\n",
    "def removePunctuation(s, punctuation='''.,!-;:'\"\\/?@#$%^&*_~()[]{}“”‘’'''):\n",
    "    return ''.join(ch for ch in s if ch not in punctuation)\n",
    "\n",
    "\n",
    "with open('../stop-words.txt') as f:\n",
    "    stop_words = set(f.readlines())\n",
    "    stop_words = set([word.strip() for word in stop_words])\n",
    "\n",
    "with open('../subcategories.txt') as f:\n",
    "    SUBCATEGORIES = [line.strip() for line in f.readlines()]\n",
    "\n",
    "time_now = time.perf_counter()\n",
    "with open('word-to-subcat-normalized.json') as f:\n",
    "    word_to_subcat = json.load(f)\n",
    "print('Time to load word-to-subcat-normalized:', time.perf_counter() - time_now, 'seconds')\n",
    "\n",
    "for word in word_to_subcat:\n",
    "    if normalized_hhi(word_to_subcat[word]) < 0.01:\n",
    "        print(word)\n",
    "    # factor = normalized_hhi(word_to_subcat[word])\n",
    "    factor = normalized_hhi(\n",
    "        word_to_subcat[word])**5 / sum(word_to_subcat[word])\n",
    "    word_to_subcat[word] = [factor * i for i in word_to_subcat[word]]\n",
    "\n",
    "\n",
    "print('=====Begin Testing=====')\n",
    "time_now = time.perf_counter()\n",
    "\n",
    "questions = open('questions.json')\n",
    "questions = questions.readlines()\n",
    "np.random.shuffle(questions)\n",
    "questions = questions[:int(0.2*len(questions))]\n",
    "counter = 0\n",
    "correct = 0\n",
    "confusion_matrix = [[0 for _ in range(len(SUBCATEGORIES))]\n",
    "                    for _ in range(len(SUBCATEGORIES))]\n",
    "for line in questions:\n",
    "    data = json.loads(line)\n",
    "    if 'subcategory' not in data:\n",
    "        continue\n",
    "\n",
    "    counter += 1\n",
    "    subcategory = data['subcategory']\n",
    "    if subcategory not in SUBCATEGORIES:\n",
    "        continue\n",
    "\n",
    "    if data['type'] == 'tossup':\n",
    "        prediction = classify_subcategory(data['question'])\n",
    "    if data['type'] == 'bonus' and 'parts' in data and len(data['parts']) == 3:\n",
    "        prediction = classify_subcategory(\n",
    "            data['leadin'] + ' ' + data['parts'][0] + data['parts'][1] + data['parts'][2])\n",
    "\n",
    "    subcategory_index = SUBCATEGORIES.index(subcategory)\n",
    "    prediction_index = SUBCATEGORIES.index(prediction)\n",
    "\n",
    "    confusion_matrix[subcategory_index][prediction_index] += 1\n",
    "\n",
    "    if subcategory == prediction:\n",
    "        correct += 1\n",
    "\n",
    "    if counter % 10000 == 0:\n",
    "        print(f'{correct}/{counter}')\n",
    "\n",
    "print('=====End Testing=====')\n",
    "print(f'Accuracy: {correct / counter} ({correct}/{counter})')\n",
    "print('Time:', time.perf_counter() - time_now, 'seconds')\n"
   ]
  },
  {
   "cell_type": "code",
   "execution_count": 2,
   "metadata": {},
   "outputs": [
    {
     "name": "stdout",
     "output_type": "stream",
     "text": [
      "Confusion Matrix:\n",
      "American Literature  [1323, 80, 1, 68, 49, 10, 54, 2, 30, 18, 1, 17, 10, 7, 2, 12, 58, 57, 17, 14, 24, 24, 14, 5, 9, 2, 21]\n",
      "British Literature   [53, 1196, 3, 50, 20, 4, 17, 3, 34, 8, 2, 12, 6, 3, 2, 6, 46, 25, 10, 15, 38, 18, 10, 4, 9, 5, 4]\n",
      "Classical Literature [1, 4, 10, 3, 9, 2, 3, 5, 0, 3, 0, 1, 0, 0, 1, 0, 1, 2, 0, 1, 20, 8, 1, 0, 1, 0, 0]\n",
      "European Literature  [43, 43, 3, 909, 31, 4, 6, 2, 29, 7, 1, 8, 6, 8, 0, 2, 43, 57, 13, 13, 26, 19, 7, 1, 8, 1, 5]\n",
      "World Literature     [48, 33, 3, 31, 697, 3, 13, 2, 15, 28, 2, 11, 4, 3, 2, 6, 28, 22, 4, 23, 36, 15, 6, 2, 2, 3, 3]\n",
      "Other Literature     [56, 44, 2, 21, 32, 27, 3, 1, 1, 3, 0, 2, 1, 4, 0, 6, 7, 10, 4, 3, 14, 3, 3, 0, 0, 1, 5]\n",
      "American History     [37, 26, 2, 8, 9, 2, 1474, 10, 77, 79, 3, 20, 13, 12, 0, 15, 35, 26, 11, 35, 14, 22, 32, 22, 22, 10, 19]\n",
      "Ancient History      [5, 8, 0, 0, 3, 1, 7, 289, 59, 23, 7, 3, 3, 0, 1, 4, 14, 9, 3, 13, 32, 7, 1, 0, 4, 0, 0]\n",
      "European History     [17, 27, 0, 22, 6, 2, 64, 49, 1798, 98, 15, 15, 6, 11, 3, 13, 59, 36, 16, 39, 20, 18, 15, 4, 39, 6, 12]\n",
      "World History        [18, 14, 1, 5, 21, 1, 66, 20, 132, 1385, 14, 19, 9, 5, 0, 5, 26, 15, 12, 47, 30, 8, 12, 15, 52, 4, 11]\n",
      "Other History        [2, 6, 1, 3, 4, 0, 19, 39, 61, 68, 35, 4, 3, 2, 0, 3, 8, 4, 8, 7, 12, 2, 6, 2, 13, 1, 2]\n",
      "Biology              [1, 2, 0, 1, 1, 1, 4, 2, 4, 0, 0, 1746, 35, 9, 3, 13, 3, 3, 1, 1, 3, 0, 7, 0, 5, 2, 2]\n",
      "Chemistry            [2, 2, 0, 2, 1, 0, 2, 0, 1, 3, 0, 83, 1354, 84, 2, 16, 2, 2, 2, 2, 2, 3, 3, 2, 0, 2, 1]\n",
      "Physics              [4, 6, 0, 0, 1, 1, 6, 0, 1, 3, 0, 25, 73, 1537, 30, 43, 1, 9, 2, 3, 2, 13, 9, 1, 1, 1, 3]\n",
      "Math                 [2, 3, 0, 2, 0, 0, 2, 1, 3, 1, 1, 9, 10, 56, 415, 67, 5, 7, 2, 3, 0, 11, 4, 0, 5, 2, 0]\n",
      "Other Science        [5, 2, 0, 3, 1, 0, 11, 1, 7, 9, 1, 81, 49, 113, 59, 839, 17, 12, 1, 7, 4, 13, 69, 5, 15, 3, 7]\n",
      "Visual Fine Arts     [12, 10, 0, 12, 7, 0, 17, 5, 16, 10, 2, 8, 3, 6, 0, 3, 1799, 22, 31, 13, 11, 6, 4, 2, 9, 5, 8]\n",
      "Auditory Fine Arts   [15, 10, 0, 12, 3, 0, 9, 2, 6, 6, 1, 4, 2, 6, 0, 4, 17, 1897, 23, 6, 4, 5, 4, 2, 4, 1, 12]\n",
      "Other Fine Arts      [20, 17, 1, 9, 5, 0, 16, 3, 26, 14, 2, 7, 10, 5, 3, 7, 139, 212, 451, 7, 14, 8, 6, 2, 15, 3, 19]\n",
      "Religion             [7, 13, 2, 10, 9, 0, 14, 8, 36, 35, 4, 11, 0, 3, 1, 3, 23, 22, 9, 1121, 76, 25, 9, 2, 11, 0, 3]\n",
      "Mythology            [8, 12, 3, 5, 9, 1, 6, 9, 9, 11, 4, 9, 1, 6, 0, 4, 17, 5, 3, 45, 1477, 8, 8, 0, 7, 2, 4]\n",
      "Philosophy           [9, 9, 0, 4, 3, 3, 14, 8, 21, 4, 0, 5, 3, 4, 2, 7, 14, 14, 2, 24, 10, 1125, 36, 1, 2, 2, 4]\n",
      "Social Science       [10, 3, 0, 3, 6, 1, 39, 3, 21, 22, 5, 36, 19, 13, 3, 31, 15, 13, 4, 15, 12, 87, 819, 4, 7, 3, 9]\n",
      "Current Events       [6, 0, 0, 1, 3, 2, 53, 2, 23, 52, 1, 14, 3, 7, 2, 14, 10, 6, 2, 6, 1, 3, 6, 113, 24, 2, 8]\n",
      "Geography            [7, 9, 1, 8, 8, 1, 47, 2, 57, 84, 4, 14, 3, 4, 1, 23, 29, 12, 17, 23, 10, 7, 9, 9, 557, 4, 18]\n",
      "Other Academic       [5, 8, 0, 3, 3, 0, 21, 1, 12, 10, 0, 11, 7, 6, 3, 10, 20, 27, 15, 10, 6, 12, 13, 2, 12, 25, 9]\n",
      "Trash                [25, 12, 0, 6, 9, 6, 19, 1, 17, 10, 0, 14, 9, 10, 0, 10, 28, 50, 40, 3, 11, 7, 4, 11, 14, 6, 351]\n"
     ]
    }
   ],
   "source": [
    "print('Confusion Matrix:')\n",
    "for subcat, row in zip(SUBCATEGORIES, confusion_matrix):\n",
    "    print(f'{subcat:20}', row)"
   ]
  },
  {
   "cell_type": "code",
   "execution_count": 3,
   "metadata": {},
   "outputs": [
    {
     "data": {
      "text/plain": [
       "<AxesSubplot:>"
      ]
     },
     "execution_count": 3,
     "metadata": {},
     "output_type": "execute_result"
    },
    {
     "data": {
      "image/png": "[encoded data removed]",
      "text/plain": [
       "<Figure size 432x288 with 2 Axes>"
      ]
     },
     "metadata": {
      "needs_background": "light"
     },
     "output_type": "display_data"
    }
   ],
   "source": [
    "sn.heatmap(confusion_matrix, cmap='Greens', annot=False)"
   ]
  },
  {
   "cell_type": "code",
   "execution_count": 4,
   "metadata": {},
   "outputs": [],
   "source": [
    "# ConfusionMatrixDisplay(np.array(confusion_matrix), display_labels='').plot()"
   ]
  }
 ],
 "metadata": {
  "kernelspec": {
   "display_name": "Python 3.10.0 64-bit",
   "language": "python",
   "name": "python3"
  },
  "language_info": {
   "codemirror_mode": {
    "name": "ipython",
    "version": 3
   },
   "file_extension": ".py",
   "mimetype": "text/x-python",
   "name": "python",
   "nbconvert_exporter": "python",
   "pygments_lexer": "ipython3",
   "version": "3.10.0"
  },
  "orig_nbformat": 4,
  "vscode": {
   "interpreter": {
    "hash": "aee8b7b246df8f9039afb4144a1f6fd8d2ca17a180786b69acc140d282b71a49"
   }
  }
 },
 "nbformat": 4,
 "nbformat_minor": 2
}
