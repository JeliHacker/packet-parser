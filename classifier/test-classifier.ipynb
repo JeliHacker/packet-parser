{
 "cells": [
  {
   "cell_type": "code",
   "execution_count": 1,
   "metadata": {},
   "outputs": [
    {
     "name": "stdout",
     "output_type": "stream",
     "text": [
      "Time to load word-to-subcat-normalized: 2.8219396739732474 seconds\n",
      "=====Begin Testing=====\n",
      "7101/10000\n",
      "14195/20000\n",
      "21347/30000\n",
      "=====End Testing=====\n",
      "Accuracy: 0.7131852921706686 (23702/33234)\n",
      "Time: 11.090133456047624 seconds\n"
     ]
    }
   ],
   "source": [
    "import json\n",
    "import time\n",
    "\n",
    "import numpy as np\n",
    "import seaborn as sn\n",
    "from sklearn.metrics import ConfusionMatrixDisplay\n",
    "\n",
    "np.random.seed(0)\n",
    "\n",
    "def classify_subcategory(text):\n",
    "    likelihoods = [0 for _ in range(len(SUBCATEGORIES))]\n",
    "    text = set(removePunctuation(text).lower().split())\n",
    "    for token in text:\n",
    "        if token in stop_words:\n",
    "            continue\n",
    "\n",
    "        if token in word_to_subcat:\n",
    "            for i in range(len(SUBCATEGORIES)):\n",
    "                likelihoods[i] += word_to_subcat[token][i]\n",
    "        else:\n",
    "            # print('Token not in word-to-subcat:', token)\n",
    "            pass\n",
    "\n",
    "    return SUBCATEGORIES[likelihoods.index(max(likelihoods))]\n",
    "\n",
    "\n",
    "def hhi(arr):\n",
    "    return sum([_**2 for _ in arr]) / sum(arr) ** 2\n",
    "\n",
    "\n",
    "def normalized_hhi(arr):\n",
    "    return (hhi(arr) - 1/len(arr)) / (1 - 1/len(arr))\n",
    "\n",
    "\n",
    "def removePunctuation(s, punctuation='''.,!-;:'\"\\/?@#$%^&*_~()[]{}“”‘’'''):\n",
    "    return ''.join(ch for ch in s if ch not in punctuation)\n",
    "\n",
    "\n",
    "with open('../stop-words.txt') as f:\n",
    "    stop_words = set(f.readlines())\n",
    "    stop_words = set([word.strip() for word in stop_words])\n",
    "\n",
    "with open('../subcategories.txt') as f:\n",
    "    SUBCATEGORIES = [line.strip() for line in f.readlines()]\n",
    "\n",
    "time_now = time.perf_counter()\n",
    "with open('word-to-subcat-normalized.json') as f:\n",
    "    word_to_subcat = json.load(f)\n",
    "print('Time to load word-to-subcat-normalized:', time.perf_counter() - time_now, 'seconds')\n",
    "\n",
    "for word in word_to_subcat:\n",
    "    if normalized_hhi(word_to_subcat[word]) < 0.01:\n",
    "        print(word)\n",
    "    # factor = normalized_hhi(word_to_subcat[word])\n",
    "    factor = normalized_hhi(\n",
    "        word_to_subcat[word])**5 / sum(word_to_subcat[word])\n",
    "    word_to_subcat[word] = [factor * i for i in word_to_subcat[word]]\n",
    "\n",
    "\n",
    "print('=====Begin Testing=====')\n",
    "time_now = time.perf_counter()\n",
    "\n",
    "questions = open('questions.json')\n",
    "questions = questions.readlines()\n",
    "np.random.shuffle(questions)\n",
    "questions = questions[:int(0.2*len(questions))]\n",
    "counter = 0\n",
    "correct = 0\n",
    "confusion_matrix = [[0 for _ in range(len(SUBCATEGORIES))]\n",
    "                    for _ in range(len(SUBCATEGORIES))]\n",
    "for line in questions:\n",
    "    data = json.loads(line)\n",
    "    if 'subcategory' not in data:\n",
    "        continue\n",
    "\n",
    "    counter += 1\n",
    "    subcategory = data['subcategory']\n",
    "    if subcategory not in SUBCATEGORIES:\n",
    "        continue\n",
    "\n",
    "    if data['type'] == 'tossup':\n",
    "        prediction = classify_subcategory(data['question'])\n",
    "    if data['type'] == 'bonus' and 'parts' in data and len(data['parts']) == 3:\n",
    "        prediction = classify_subcategory(\n",
    "            data['leadin'] + ' ' + data['parts'][0] + data['parts'][1] + data['parts'][2])\n",
    "\n",
    "    subcategory_index = SUBCATEGORIES.index(subcategory)\n",
    "    prediction_index = SUBCATEGORIES.index(prediction)\n",
    "\n",
    "    confusion_matrix[subcategory_index][prediction_index] += 1\n",
    "\n",
    "    if subcategory == prediction:\n",
    "        correct += 1\n",
    "\n",
    "    if counter % 10000 == 0:\n",
    "        print(f'{correct}/{counter}')\n",
    "\n",
    "print('=====End Testing=====')\n",
    "print(f'Accuracy: {correct / counter} ({correct}/{counter})')\n",
    "print('Time:', time.perf_counter() - time_now, 'seconds')\n"
   ]
  },
  {
   "cell_type": "code",
   "execution_count": 2,
   "metadata": {},
   "outputs": [
    {
     "name": "stdout",
     "output_type": "stream",
     "text": [
      "Confusion Matrix:\n",
      "American Literature  [1188, 87, 0, 53, 55, 10, 53, 2, 31, 15, 1, 17, 9, 6, 2, 18, 43, 44, 18, 17, 29, 21, 17, 3, 13, 3, 22]\n",
      "British Literature   [60, 1115, 0, 35, 23, 7, 19, 4, 29, 14, 0, 15, 4, 4, 1, 8, 42, 49, 10, 18, 28, 20, 2, 1, 12, 4, 4]\n",
      "Classical Literature [4, 8, 27, 3, 10, 2, 0, 1, 1, 2, 1, 0, 0, 0, 1, 0, 0, 4, 1, 2, 33, 8, 1, 0, 0, 0, 1]\n",
      "European Literature  [41, 57, 1, 839, 28, 7, 11, 2, 33, 10, 1, 9, 3, 6, 0, 6, 34, 45, 10, 8, 23, 22, 3, 0, 9, 4, 4]\n",
      "World Literature     [49, 38, 3, 39, 671, 10, 12, 3, 12, 33, 3, 10, 4, 7, 0, 3, 21, 15, 6, 17, 22, 10, 8, 2, 4, 2, 1]\n",
      "Other Literature     [53, 49, 3, 19, 26, 21, 5, 0, 3, 6, 0, 4, 2, 3, 2, 2, 11, 19, 5, 2, 14, 7, 4, 1, 2, 1, 2]\n",
      "American History     [34, 15, 1, 8, 14, 2, 1381, 3, 82, 71, 3, 27, 10, 15, 1, 8, 32, 19, 18, 24, 8, 23, 26, 15, 27, 5, 13]\n",
      "Ancient History      [7, 5, 2, 4, 2, 1, 7, 284, 65, 31, 11, 7, 2, 2, 0, 1, 13, 10, 4, 9, 25, 11, 3, 1, 9, 1, 1]\n",
      "European History     [18, 24, 0, 24, 3, 1, 70, 41, 1761, 122, 8, 26, 11, 14, 6, 11, 47, 21, 14, 23, 30, 26, 19, 11, 26, 3, 11]\n",
      "World History        [10, 5, 0, 7, 20, 2, 63, 20, 129, 1322, 23, 11, 6, 7, 0, 5, 24, 14, 10, 40, 20, 5, 14, 13, 53, 6, 10]\n",
      "Other History        [1, 6, 0, 2, 3, 0, 32, 28, 58, 61, 32, 7, 2, 2, 0, 5, 12, 2, 1, 4, 8, 2, 5, 3, 14, 2, 3]\n",
      "Biology              [2, 3, 0, 1, 1, 0, 4, 1, 2, 2, 0, 1706, 24, 15, 0, 22, 3, 3, 2, 3, 3, 3, 10, 0, 1, 1, 2]\n",
      "Chemistry            [3, 1, 0, 2, 1, 1, 3, 0, 2, 3, 0, 72, 1305, 90, 5, 21, 3, 0, 3, 2, 1, 4, 6, 0, 2, 0, 2]\n",
      "Physics              [2, 6, 0, 3, 1, 0, 11, 2, 6, 2, 1, 17, 70, 1535, 25, 48, 6, 6, 4, 0, 2, 4, 3, 2, 3, 2, 3]\n",
      "Math                 [0, 1, 0, 1, 1, 0, 0, 0, 6, 2, 0, 9, 10, 78, 400, 50, 1, 6, 0, 2, 2, 13, 6, 0, 2, 0, 1]\n",
      "Other Science        [6, 5, 0, 7, 1, 0, 16, 2, 8, 11, 0, 76, 38, 86, 44, 800, 17, 14, 8, 7, 7, 15, 72, 2, 15, 1, 9]\n",
      "Visual Fine Arts     [8, 8, 0, 6, 6, 0, 8, 3, 8, 8, 1, 2, 3, 4, 3, 5, 1736, 18, 28, 9, 12, 6, 5, 0, 8, 2, 5]\n",
      "Auditory Fine Arts   [12, 6, 0, 9, 10, 1, 15, 0, 10, 12, 0, 3, 5, 4, 2, 3, 11, 1761, 27, 5, 7, 5, 4, 2, 5, 3, 9]\n",
      "Other Fine Arts      [27, 12, 0, 11, 8, 1, 21, 2, 13, 11, 2, 11, 7, 7, 1, 7, 150, 225, 446, 6, 14, 4, 7, 1, 10, 5, 19]\n",
      "Religion             [14, 15, 0, 12, 7, 2, 21, 9, 37, 19, 3, 7, 4, 2, 1, 1, 23, 20, 5, 1072, 60, 32, 9, 0, 11, 3, 3]\n",
      "Mythology            [9, 10, 1, 8, 13, 0, 9, 9, 7, 14, 3, 6, 2, 2, 1, 7, 14, 4, 2, 36, 1359, 6, 8, 2, 7, 1, 1]\n",
      "Philosophy           [12, 7, 1, 4, 2, 1, 17, 3, 13, 4, 1, 9, 5, 6, 3, 9, 8, 10, 6, 24, 9, 1076, 32, 1, 5, 2, 2]\n",
      "Social Science       [15, 7, 1, 7, 6, 0, 29, 1, 21, 17, 2, 34, 12, 17, 0, 25, 6, 20, 6, 20, 7, 80, 833, 9, 8, 3, 13]\n",
      "Current Events       [4, 3, 0, 3, 6, 1, 63, 1, 23, 49, 0, 15, 2, 2, 0, 15, 8, 7, 3, 11, 2, 1, 11, 109, 20, 4, 10]\n",
      "Geography            [9, 14, 0, 7, 5, 0, 50, 4, 69, 91, 7, 16, 6, 8, 0, 26, 27, 14, 12, 20, 16, 5, 11, 11, 562, 1, 17]\n",
      "Other Academic       [10, 6, 0, 7, 9, 0, 17, 2, 13, 10, 0, 15, 8, 7, 1, 12, 25, 26, 7, 7, 6, 6, 12, 3, 9, 22, 17]\n",
      "Trash                [24, 16, 0, 10, 6, 2, 33, 0, 17, 17, 0, 12, 4, 7, 1, 13, 36, 54, 32, 3, 10, 7, 10, 7, 7, 4, 339]\n"
     ]
    }
   ],
   "source": [
    "print('Confusion Matrix:')\n",
    "for subcat, row in zip(SUBCATEGORIES, confusion_matrix):\n",
    "    print(f'{subcat:20}', row)"
   ]
  },
  {
   "cell_type": "code",
   "execution_count": 3,
   "metadata": {},
   "outputs": [
    {
     "data": {
      "text/plain": [
       "<AxesSubplot:>"
      ]
     },
     "execution_count": 3,
     "metadata": {},
     "output_type": "execute_result"
    },
    {
     "data": {
      "image/png": "[encoded data removed]",
      "text/plain": [
       "<Figure size 432x288 with 2 Axes>"
      ]
     },
     "metadata": {
      "needs_background": "light"
     },
     "output_type": "display_data"
    }
   ],
   "source": [
    "sn.heatmap(confusion_matrix, cmap='Greens', annot=False)"
   ]
  },
  {
   "cell_type": "code",
   "execution_count": 4,
   "metadata": {},
   "outputs": [],
   "source": [
    "# ConfusionMatrixDisplay(np.array(confusion_matrix), display_labels='').plot()"
   ]
  }
 ],
 "metadata": {
  "kernelspec": {
   "display_name": "Python 3.10.0 64-bit",
   "language": "python",
   "name": "python3"
  },
  "language_info": {
   "codemirror_mode": {
    "name": "ipython",
    "version": 3
   },
   "file_extension": ".py",
   "mimetype": "text/x-python",
   "name": "python",
   "nbconvert_exporter": "python",
   "pygments_lexer": "ipython3",
   "version": "3.10.0"
  },
  "orig_nbformat": 4,
  "vscode": {
   "interpreter": {
    "hash": "aee8b7b246df8f9039afb4144a1f6fd8d2ca17a180786b69acc140d282b71a49"
   }
  }
 },
 "nbformat": 4,
 "nbformat_minor": 2
}
