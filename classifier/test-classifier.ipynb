{
 "cells": [
  {
   "cell_type": "code",
   "execution_count": 1,
   "metadata": {},
   "outputs": [],
   "source": [
    "import json\n",
    "import math\n",
    "import time\n",
    "\n",
    "import numpy as np\n",
    "import seaborn as sn\n",
    "from sklearn.metrics import ConfusionMatrixDisplay\n",
    "\n",
    "from classify import classify_subcategory\n",
    "\n",
    "np.random.seed(0)\n",
    "\n",
    "questions = open('questions.json')\n",
    "questions = questions.readlines()\n",
    "np.random.shuffle(questions)\n",
    "questions = questions[:int(0.2*len(questions))]\n",
    "\n",
    "with open('subcategories.txt') as f:\n",
    "    SUBCATEGORIES = [line.strip() for line in f.readlines()]"
   ]
  },
  {
   "cell_type": "code",
   "execution_count": 7,
   "metadata": {},
   "outputs": [
    {
     "name": "stdout",
     "output_type": "stream",
     "text": [
      "=====Begin Testing=====\n",
      "8193/10000\n",
      "16381/20000\n",
      "24633/30000\n",
      "=====End Testing=====\n",
      "Accuracy: 82.09508066244221% (26818/32667)\n",
      "Time: 19.41653315498843 seconds\n"
     ]
    }
   ],
   "source": [
    "EPSILON = 0.00001\n",
    "\n",
    "print('=====Begin Testing=====')\n",
    "time_now = time.perf_counter()\n",
    "\n",
    "counter = 0\n",
    "correct = 0\n",
    "confusion_matrix = [[0 for _ in range(len(SUBCATEGORIES))] for _ in range(len(SUBCATEGORIES))]\n",
    "\n",
    "for line in questions:\n",
    "    data = json.loads(line)\n",
    "\n",
    "    if 'subcategory' not in data:\n",
    "        continue\n",
    "\n",
    "    subcategory = data['subcategory']\n",
    "\n",
    "    if subcategory not in SUBCATEGORIES:\n",
    "        continue\n",
    "\n",
    "    counter += 1\n",
    "\n",
    "    if data['type'] == 'tossup':\n",
    "        prediction = classify_subcategory(data['question'] + ' ' + data['answer'], EPSILON)\n",
    "\n",
    "    if data['type'] == 'bonus' and 'parts' in data and len(data['parts']) == 3:\n",
    "        prediction = classify_subcategory(data['leadin'] + ' ' + ' '.join(data['parts']) + ' ' + ' '.join(data['answers']), EPSILON)\n",
    "\n",
    "    subcategory_index = SUBCATEGORIES.index(subcategory)\n",
    "    prediction_index = SUBCATEGORIES.index(prediction)\n",
    "\n",
    "    confusion_matrix[subcategory_index][prediction_index] += 1\n",
    "\n",
    "    if subcategory == prediction:\n",
    "        correct += 1\n",
    "\n",
    "    if counter % 10000 == 0:\n",
    "        print(f'{correct}/{counter}')\n",
    "\n",
    "print('=====End Testing=====')\n",
    "print(f'Accuracy: {100 * correct / counter}% ({correct}/{counter})')\n",
    "print(f'Time: {time.perf_counter() - time_now} seconds')"
   ]
  },
  {
   "cell_type": "code",
   "execution_count": 3,
   "metadata": {},
   "outputs": [
    {
     "name": "stdout",
     "output_type": "stream",
     "text": [
      "American Literature:  1540/1929  (79.83%)\n",
      "British Literature:   1354/1603  (84.47%)\n",
      "European Literature:  1098/1295  (84.79%)\n",
      "World Literature:     827/1045   (79.14%)\n",
      "American History:     1670/2035  (82.06%)\n",
      "Ancient History:      407/496    (82.06%)\n",
      "European History:     1968/2410  (81.66%)\n",
      "World History:        1473/1947  (75.65%)\n",
      "Biology:              1638/1849  (88.59%)\n",
      "Chemistry:            1349/1573  (85.76%)\n",
      "Physics:              1548/1775  (87.21%)\n",
      "Math:                 527/611    (86.25%)\n",
      "Other Science:        894/1334   (67.02%)\n",
      "Visual Fine Arts:     1760/2021  (87.09%)\n",
      "Auditory Fine Arts:   1721/2055  (83.75%)\n",
      "Other Fine Arts:      652/1021   (63.86%)\n",
      "Religion:             1244/1457  (85.38%)\n",
      "Mythology:            1472/1673  (87.99%)\n",
      "Philosophy:           1171/1330  (88.05%)\n",
      "Social Science:       1004/1203  (83.46%)\n",
      "Current Events:       221/364    (60.71%)\n",
      "Geography:            781/968    (80.68%)\n",
      "Trash:                499/673    (74.15%)\n"
     ]
    }
   ],
   "source": [
    "for i, subcat in enumerate(SUBCATEGORIES):\n",
    "    accuracy = 0.0 if sum(confusion_matrix[i]) == 0 else confusion_matrix[i][i] / sum(confusion_matrix[i])\n",
    "    accuracy = round(100 * accuracy, 2)\n",
    "    print(f'{subcat + \":\":21} {str(confusion_matrix[i][i]) + \"/\" + str(sum(confusion_matrix[i])):10} ({accuracy}%)')"
   ]
  },
  {
   "cell_type": "code",
   "execution_count": 4,
   "metadata": {},
   "outputs": [
    {
     "name": "stdout",
     "output_type": "stream",
     "text": [
      "Confusion Matrix:\n",
      "American Literature  [1540, 85, 71, 70, 34, 2, 8, 6, 0, 1, 2, 2, 1, 9, 3, 12, 4, 7, 22, 8, 8, 1, 33]\n",
      "British Literature   [60, 1354, 53, 31, 10, 3, 10, 4, 2, 1, 0, 2, 0, 4, 2, 8, 11, 13, 8, 6, 2, 2, 17]\n",
      "European Literature  [36, 52, 1098, 40, 3, 1, 6, 2, 0, 0, 1, 0, 2, 6, 2, 7, 1, 13, 12, 3, 0, 3, 7]\n",
      "World Literature     [50, 48, 43, 827, 7, 0, 2, 10, 0, 0, 0, 0, 3, 2, 2, 3, 7, 14, 7, 5, 2, 6, 7]\n",
      "American History     [32, 8, 2, 2, 1670, 8, 51, 65, 0, 0, 0, 0, 1, 10, 1, 8, 16, 3, 7, 22, 62, 41, 26]\n",
      "Ancient History      [0, 4, 2, 1, 3, 407, 25, 21, 0, 0, 0, 0, 1, 8, 0, 2, 4, 7, 3, 2, 2, 4, 0]\n",
      "European History     [11, 21, 12, 2, 62, 87, 1968, 81, 1, 0, 1, 0, 5, 9, 3, 16, 19, 8, 8, 12, 44, 33, 7]\n",
      "World History        [3, 10, 3, 21, 66, 61, 108, 1473, 1, 0, 0, 2, 1, 7, 1, 5, 21, 12, 2, 11, 74, 57, 8]\n",
      "Biology              [7, 4, 4, 2, 13, 4, 4, 3, 1638, 42, 11, 6, 41, 2, 1, 4, 2, 3, 1, 28, 6, 10, 13]\n",
      "Chemistry            [3, 1, 0, 1, 6, 0, 3, 4, 32, 1349, 119, 6, 28, 2, 1, 2, 1, 0, 2, 8, 2, 1, 2]\n",
      "Physics              [5, 2, 0, 2, 6, 1, 1, 1, 2, 52, 1548, 62, 61, 0, 1, 4, 1, 0, 3, 14, 6, 0, 3]\n",
      "Math                 [0, 1, 1, 0, 0, 0, 2, 0, 1, 0, 11, 527, 44, 0, 0, 1, 2, 0, 5, 10, 1, 1, 4]\n",
      "Other Science        [7, 1, 2, 1, 13, 0, 4, 3, 36, 39, 54, 105, 894, 5, 2, 4, 3, 0, 11, 110, 4, 26, 10]\n",
      "Visual Fine Arts     [20, 17, 21, 10, 12, 8, 11, 9, 1, 0, 0, 0, 6, 1760, 1, 85, 12, 6, 8, 4, 3, 5, 22]\n",
      "Auditory Fine Arts   [24, 15, 27, 8, 15, 2, 12, 5, 0, 1, 2, 2, 6, 3, 1721, 121, 9, 5, 2, 11, 1, 10, 53]\n",
      "Other Fine Arts      [12, 9, 8, 3, 7, 2, 4, 10, 0, 0, 0, 1, 0, 116, 114, 652, 4, 3, 4, 4, 1, 11, 56]\n",
      "Religion             [5, 9, 8, 5, 14, 13, 19, 25, 2, 0, 1, 1, 1, 5, 3, 4, 1244, 51, 24, 6, 3, 6, 8]\n",
      "Mythology            [9, 26, 15, 6, 5, 24, 7, 8, 4, 1, 3, 0, 3, 8, 0, 4, 46, 1472, 4, 7, 3, 11, 7]\n",
      "Philosophy           [11, 13, 12, 7, 9, 9, 5, 1, 0, 0, 1, 8, 5, 1, 0, 1, 16, 1, 1171, 52, 1, 0, 6]\n",
      "Social Science       [7, 4, 2, 5, 34, 1, 4, 11, 6, 2, 1, 1, 16, 1, 1, 3, 8, 1, 60, 1004, 15, 9, 7]\n",
      "Current Events       [1, 0, 2, 0, 36, 0, 11, 33, 3, 0, 1, 1, 3, 0, 0, 2, 1, 0, 2, 6, 221, 24, 17]\n",
      "Geography            [5, 0, 3, 4, 21, 7, 14, 46, 1, 0, 1, 1, 6, 3, 0, 23, 2, 7, 1, 5, 20, 781, 17]\n",
      "Trash                [19, 7, 4, 2, 13, 0, 3, 1, 0, 0, 0, 2, 3, 7, 9, 73, 1, 4, 0, 5, 10, 11, 499]\n"
     ]
    }
   ],
   "source": [
    "print('Confusion Matrix:')\n",
    "for subcat, row in zip(SUBCATEGORIES, confusion_matrix):\n",
    "    print(f'{subcat:20}', row)"
   ]
  },
  {
   "cell_type": "code",
   "execution_count": 5,
   "metadata": {},
   "outputs": [
    {
     "data": {
      "text/plain": [
       "<AxesSubplot:>"
      ]
     },
     "execution_count": 5,
     "metadata": {},
     "output_type": "execute_result"
    },
    {
     "data": {
      "image/png": "[encoded data removed]",
      "text/plain": [
       "<Figure size 432x288 with 2 Axes>"
      ]
     },
     "metadata": {
      "needs_background": "light"
     },
     "output_type": "display_data"
    }
   ],
   "source": [
    "sn.heatmap(confusion_matrix, cmap='Greens', annot=False)"
   ]
  },
  {
   "cell_type": "code",
   "execution_count": 6,
   "metadata": {},
   "outputs": [],
   "source": [
    "# ConfusionMatrixDisplay(np.array(confusion_matrix), display_labels='').plot()"
   ]
  },
  {
   "cell_type": "code",
   "execution_count": null,
   "metadata": {},
   "outputs": [],
   "source": []
  }
 ],
 "metadata": {
  "kernelspec": {
   "display_name": "Python 3.10.0 64-bit",
   "language": "python",
   "name": "python3"
  },
  "language_info": {
   "codemirror_mode": {
    "name": "ipython",
    "version": 3
   },
   "file_extension": ".py",
   "mimetype": "text/x-python",
   "name": "python",
   "nbconvert_exporter": "python",
   "pygments_lexer": "ipython3",
   "version": "3.10.0"
  },
  "orig_nbformat": 4,
  "vscode": {
   "interpreter": {
    "hash": "aee8b7b246df8f9039afb4144a1f6fd8d2ca17a180786b69acc140d282b71a49"
   }
  }
 },
 "nbformat": 4,
 "nbformat_minor": 2
}
