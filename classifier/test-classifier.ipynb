{
 "cells": [
  {
   "cell_type": "code",
   "execution_count": 7,
   "metadata": {},
   "outputs": [
    {
     "name": "stdout",
     "output_type": "stream",
     "text": [
      "Time to load word-to-subcat-normalized: 3.2449763430049643 seconds\n",
      "=====Begin Testing=====\n",
      "9666/10000\n",
      "19347/20000\n",
      "28895/30000\n",
      "38283/40000\n",
      "47447/50000\n",
      "56802/60000\n",
      "66185/70000\n",
      "75394/80000\n",
      "84831/90000\n",
      "94361/100000\n",
      "103901/110000\n",
      "113476/120000\n",
      "123425/130000\n",
      "=====End Testing=====\n",
      "Accuracy: 0.9505446396770747 (128103/134768)\n",
      "Time: 42.88400623599591 seconds\n",
      "Confusion Matrix:\n",
      "[7372, 40, 0, 41, 36, 0, 27, 1, 7, 5, 0, 11, 7, 10, 2, 0, 43, 47, 3, 15, 13, 15, 8, 0, 4, 0, 2]\n",
      "[24, 6259, 1, 13, 11, 0, 7, 0, 13, 5, 0, 3, 4, 2, 2, 3, 35, 31, 1, 6, 19, 8, 1, 0, 2, 0, 1]\n",
      "[2, 6, 374, 1, 14, 0, 0, 1, 0, 1, 0, 2, 1, 0, 0, 0, 1, 3, 0, 0, 52, 4, 1, 0, 0, 0, 0]\n",
      "[13, 40, 1, 4898, 22, 0, 3, 2, 8, 2, 0, 8, 0, 3, 0, 2, 21, 41, 0, 7, 24, 14, 0, 0, 1, 0, 0]\n",
      "[16, 12, 0, 18, 4231, 0, 2, 0, 3, 14, 0, 8, 3, 0, 0, 1, 14, 19, 2, 8, 21, 1, 2, 0, 0, 0, 3]\n",
      "[77, 45, 2, 26, 47, 792, 2, 0, 1, 2, 0, 5, 0, 3, 0, 6, 11, 16, 0, 5, 12, 10, 1, 0, 1, 0, 4]\n",
      "[12, 10, 0, 1, 0, 0, 7676, 4, 36, 27, 0, 18, 11, 5, 0, 6, 29, 20, 2, 15, 3, 7, 6, 3, 3, 0, 5]\n",
      "[0, 2, 0, 1, 1, 0, 4, 1849, 16, 25, 1, 5, 0, 0, 2, 0, 9, 2, 1, 7, 18, 9, 0, 0, 1, 0, 1]\n",
      "[6, 3, 0, 0, 1, 0, 31, 19, 9233, 33, 0, 10, 8, 4, 0, 5, 21, 16, 0, 10, 4, 12, 5, 0, 3, 0, 1]\n",
      "[2, 4, 0, 1, 2, 0, 26, 4, 58, 7541, 1, 4, 5, 4, 2, 1, 11, 5, 1, 18, 18, 7, 6, 3, 11, 0, 4]\n",
      "[1, 2, 0, 1, 2, 0, 21, 21, 39, 42, 1232, 9, 7, 3, 3, 2, 6, 2, 1, 1, 5, 4, 0, 0, 3, 0, 0]\n",
      "[0, 0, 0, 0, 0, 0, 0, 0, 2, 0, 0, 7087, 18, 4, 0, 0, 3, 2, 1, 0, 0, 0, 3, 0, 2, 0, 0]\n",
      "[0, 0, 0, 0, 0, 0, 1, 0, 0, 0, 0, 43, 6151, 92, 2, 4, 0, 1, 0, 0, 1, 1, 0, 0, 0, 0, 0]\n",
      "[1, 2, 0, 0, 0, 0, 1, 0, 1, 1, 0, 15, 51, 7081, 10, 13, 1, 1, 0, 0, 1, 6, 4, 1, 0, 0, 0]\n",
      "[0, 0, 0, 1, 1, 0, 1, 0, 2, 0, 0, 3, 6, 67, 2236, 18, 0, 6, 0, 0, 0, 7, 1, 0, 0, 0, 0]\n",
      "[2, 0, 0, 0, 0, 0, 7, 0, 5, 1, 0, 30, 25, 68, 50, 5027, 2, 6, 0, 2, 4, 8, 39, 0, 3, 0, 0]\n",
      "[3, 0, 0, 2, 0, 0, 1, 2, 4, 1, 0, 1, 2, 4, 0, 1, 7387, 10, 6, 4, 4, 1, 0, 0, 2, 0, 1]\n",
      "[2, 0, 0, 4, 0, 0, 2, 0, 0, 2, 0, 1, 2, 3, 0, 0, 9, 7607, 5, 1, 1, 0, 1, 0, 0, 0, 2]\n",
      "[7, 3, 0, 0, 1, 0, 10, 0, 4, 3, 0, 7, 4, 0, 0, 3, 126, 263, 3869, 4, 11, 2, 1, 0, 0, 0, 4]\n",
      "[2, 2, 0, 3, 1, 0, 5, 1, 11, 3, 1, 6, 2, 2, 1, 1, 14, 13, 1, 5593, 31, 19, 4, 0, 2, 0, 0]\n",
      "[1, 1, 0, 0, 0, 0, 2, 1, 0, 3, 0, 4, 0, 1, 0, 0, 4, 4, 0, 22, 5858, 5, 3, 0, 1, 0, 0]\n",
      "[1, 1, 0, 4, 2, 0, 3, 3, 5, 0, 0, 5, 3, 5, 0, 0, 9, 5, 0, 7, 1, 5136, 22, 0, 1, 0, 0]\n",
      "[4, 5, 0, 0, 4, 0, 12, 0, 4, 3, 0, 16, 4, 12, 0, 4, 7, 5, 0, 6, 3, 46, 4841, 0, 1, 0, 2]\n",
      "[1, 0, 0, 2, 0, 0, 32, 0, 8, 14, 0, 11, 2, 2, 1, 5, 3, 5, 1, 3, 1, 2, 3, 1405, 3, 0, 2]\n",
      "[3, 0, 0, 1, 0, 0, 25, 0, 10, 23, 0, 8, 2, 7, 0, 7, 8, 13, 7, 6, 3, 2, 0, 0, 3789, 0, 4]\n",
      "[4, 1, 0, 3, 1, 0, 9, 0, 2, 4, 0, 7, 2, 0, 0, 5, 16, 23, 1, 2, 3, 2, 7, 0, 3, 861, 4]\n",
      "[14, 6, 0, 1, 4, 0, 15, 0, 4, 5, 0, 7, 2, 4, 0, 0, 35, 47, 12, 0, 7, 5, 0, 1, 1, 0, 2718]\n"
     ]
    }
   ],
   "source": [
    "import json\n",
    "import time\n",
    "\n",
    "import numpy as np\n",
    "import seaborn as sn\n",
    "from sklearn.metrics import ConfusionMatrixDisplay\n",
    "\n",
    "def classify_subcategory(text):\n",
    "    likelihoods = [0 for _ in range(len(SUBCATEGORIES))]\n",
    "    text = set(removePunctuation(text).lower().split())\n",
    "    for token in text:\n",
    "        if token in stop_words:\n",
    "            continue\n",
    "\n",
    "        if token in word_to_subcat:\n",
    "            for i in range(len(SUBCATEGORIES)):\n",
    "                likelihoods[i] += word_to_subcat[token][i]\n",
    "        else:\n",
    "            print('Token not in word-to-subcat:', token)\n",
    "\n",
    "    return SUBCATEGORIES[likelihoods.index(max(likelihoods))]\n",
    "\n",
    "\n",
    "def hhi(arr):\n",
    "    return sum([_**2 for _ in arr]) / sum(arr) ** 2\n",
    "\n",
    "\n",
    "def normalized_hhi(arr):\n",
    "    return (hhi(arr) - 1/len(arr)) / (1 - 1/len(arr))\n",
    "\n",
    "\n",
    "def removePunctuation(s, punctuation='''.,!-;:'\"\\/?@#$%^&*_~()[]{}“”‘’'''):\n",
    "    return ''.join(ch for ch in s if ch not in punctuation)\n",
    "\n",
    "\n",
    "with open('../stop-words.txt') as f:\n",
    "    stop_words = set(f.readlines())\n",
    "    stop_words = set([word.strip() for word in stop_words])\n",
    "\n",
    "with open('../subcategories.txt') as f:\n",
    "    SUBCATEGORIES = [line.strip() for line in f.readlines()]\n",
    "\n",
    "time_now = time.perf_counter()\n",
    "with open('word-to-subcat-normalized.json') as f:\n",
    "    word_to_subcat = json.load(f)\n",
    "print('Time to load word-to-subcat-normalized:', time.perf_counter() - time_now, 'seconds')\n",
    "\n",
    "for word in word_to_subcat:\n",
    "    if normalized_hhi(word_to_subcat[word]) < 0.01:\n",
    "        print(word)\n",
    "    # factor = normalized_hhi(word_to_subcat[word])\n",
    "    factor = normalized_hhi(\n",
    "        word_to_subcat[word])**5 / sum(word_to_subcat[word])\n",
    "    word_to_subcat[word] = [factor * i for i in word_to_subcat[word]]\n",
    "\n",
    "\n",
    "print('=====Begin Testing=====')\n",
    "time_now = time.perf_counter()\n",
    "\n",
    "questions = open('questions.json')\n",
    "counter = 0\n",
    "correct = 0\n",
    "confusion_matrix = [[0 for _ in range(len(SUBCATEGORIES))]\n",
    "                    for _ in range(len(SUBCATEGORIES))]\n",
    "for line in questions:\n",
    "    data = json.loads(line)\n",
    "    if 'subcategory' not in data:\n",
    "        continue\n",
    "\n",
    "    counter += 1\n",
    "    subcategory = data['subcategory']\n",
    "    if subcategory not in SUBCATEGORIES:\n",
    "        continue\n",
    "\n",
    "    if data['type'] == 'tossup':\n",
    "        prediction = classify_subcategory(data['question'])\n",
    "    if data['type'] == 'bonus' and 'parts' in data and len(data['parts']) == 3:\n",
    "        prediction = classify_subcategory(\n",
    "            data['leadin'] + ' ' + data['parts'][0] + data['parts'][1] + data['parts'][2])\n",
    "\n",
    "    subcategory_index = SUBCATEGORIES.index(subcategory)\n",
    "    prediction_index = SUBCATEGORIES.index(prediction)\n",
    "\n",
    "    confusion_matrix[subcategory_index][prediction_index] += 1\n",
    "\n",
    "    if subcategory == prediction:\n",
    "        correct += 1\n",
    "\n",
    "    if counter % 10000 == 0:\n",
    "        print(f'{correct}/{counter}')\n",
    "\n",
    "print('=====End Testing=====')\n",
    "print(f'Accuracy: {correct / counter} ({correct}/{counter})')\n",
    "print('Time:', time.perf_counter() - time_now, 'seconds')\n",
    "print('Confusion Matrix:')\n",
    "for row in confusion_matrix:\n",
    "    print(row)\n"
   ]
  },
  {
   "cell_type": "code",
   "execution_count": 8,
   "metadata": {},
   "outputs": [
    {
     "data": {
      "text/plain": [
       "<AxesSubplot:>"
      ]
     },
     "execution_count": 8,
     "metadata": {},
     "output_type": "execute_result"
    },
    {
     "data": {
      "image/png": "[encoded data removed]",
      "text/plain": [
       "<Figure size 432x288 with 2 Axes>"
      ]
     },
     "metadata": {
      "needs_background": "light"
     },
     "output_type": "display_data"
    }
   ],
   "source": [
    "sn.heatmap(confusion_matrix, cmap='Greens', annot=False)"
   ]
  },
  {
   "cell_type": "code",
   "execution_count": 9,
   "metadata": {},
   "outputs": [],
   "source": [
    "# ConfusionMatrixDisplay(np.array(confusion_matrix), display_labels='').plot()"
   ]
  }
 ],
 "metadata": {
  "kernelspec": {
   "display_name": "Python 3.10.0 64-bit",
   "language": "python",
   "name": "python3"
  },
  "language_info": {
   "codemirror_mode": {
    "name": "ipython",
    "version": 3
   },
   "file_extension": ".py",
   "mimetype": "text/x-python",
   "name": "python",
   "nbconvert_exporter": "python",
   "pygments_lexer": "ipython3",
   "version": "3.10.0"
  },
  "orig_nbformat": 4,
  "vscode": {
   "interpreter": {
    "hash": "aee8b7b246df8f9039afb4144a1f6fd8d2ca17a180786b69acc140d282b71a49"
   }
  }
 },
 "nbformat": 4,
 "nbformat_minor": 2
}
