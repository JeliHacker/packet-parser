{
 "cells": [
  {
   "cell_type": "code",
   "execution_count": 1,
   "metadata": {},
   "outputs": [
    {
     "name": "stdout",
     "output_type": "stream",
     "text": [
      "Number of questions in test set: 47527\n"
     ]
    }
   ],
   "source": [
    "import json\n",
    "import time\n",
    "\n",
    "import numpy as np\n",
    "import seaborn as sn\n",
    "\n",
    "from classify import classify_subcategory\n",
    "\n",
    "np.random.seed(0)\n",
    "\n",
    "questions = open('tossups.json').readlines() + open('bonuses.json').readlines()\n",
    "np.random.shuffle(questions)\n",
    "questions = questions[:int(0.2*len(questions))]\n",
    "print('Number of questions in test set:', len(questions))\n",
    "\n",
    "with open('subcategories.txt') as f:\n",
    "    SUBCATEGORIES = [line.strip() for line in f.readlines()]"
   ]
  },
  {
   "cell_type": "code",
   "execution_count": 2,
   "metadata": {},
   "outputs": [
    {
     "name": "stdout",
     "output_type": "stream",
     "text": [
      "=====Begin Testing=====\n",
      "8201/10000\n",
      "16377/20000\n",
      "24608/30000\n",
      "32817/40000\n",
      "=====End Testing=====\n",
      "Accuracy: 82.17945945945947% (38008/46250)\n",
      "Time: 27.567857799003832 seconds\n"
     ]
    }
   ],
   "source": [
    "EPSILON = 0.00001\n",
    "\n",
    "print('=====Begin Testing=====')\n",
    "time_now = time.perf_counter()\n",
    "\n",
    "counter = 0\n",
    "correct = 0\n",
    "confusion_matrix = [[0 for _ in range(len(SUBCATEGORIES))] for _ in range(len(SUBCATEGORIES))]\n",
    "\n",
    "for line in questions:\n",
    "    data = json.loads(line)\n",
    "\n",
    "    if 'subcategory' not in data:\n",
    "        continue\n",
    "\n",
    "    subcategory = data['subcategory']\n",
    "\n",
    "    if subcategory not in SUBCATEGORIES:\n",
    "        continue\n",
    "\n",
    "    counter += 1\n",
    "\n",
    "    if data['type'] == 'tossup':\n",
    "        prediction = classify_subcategory(data['question'] + ' ' + data['answer'], EPSILON)\n",
    "\n",
    "    if data['type'] == 'bonus' and 'parts' in data and len(data['parts']) == 3:\n",
    "        prediction = classify_subcategory(data['leadin'] + ' ' + ' '.join(data['parts']) + ' ' + ' '.join(data['answers']), EPSILON)\n",
    "\n",
    "    subcategory_index = SUBCATEGORIES.index(subcategory)\n",
    "    prediction_index = SUBCATEGORIES.index(prediction)\n",
    "\n",
    "    confusion_matrix[subcategory_index][prediction_index] += 1\n",
    "\n",
    "    if subcategory == prediction:\n",
    "        correct += 1\n",
    "\n",
    "    if counter % 10000 == 0:\n",
    "        print(f'{correct}/{counter}')\n",
    "\n",
    "print('=====End Testing=====')\n",
    "print(f'Accuracy: {100 * correct / counter}% ({correct}/{counter})')\n",
    "print(f'Time: {time.perf_counter() - time_now} seconds')"
   ]
  },
  {
   "cell_type": "code",
   "execution_count": 3,
   "metadata": {},
   "outputs": [
    {
     "name": "stdout",
     "output_type": "stream",
     "text": [
      "American Literature:  2396/3039  (78.84%)\n",
      "British Literature:   2180/2540  (85.83%)\n",
      "European Literature:  1633/1909  (85.54%)\n",
      "World Literature:     1229/1464  (83.95%)\n",
      "American History:     2467/3113  (79.25%)\n",
      "Ancient History:      471/589    (79.97%)\n",
      "European History:     2736/3626  (75.46%)\n",
      "World History:        2068/2721  (76.0%)\n",
      "Biology:              2239/2544  (88.01%)\n",
      "Chemistry:            1848/2114  (87.42%)\n",
      "Physics:              2282/2661  (85.76%)\n",
      "Math:                 643/712    (90.31%)\n",
      "Other Science:        1242/1721  (72.17%)\n",
      "Visual Fine Arts:     2473/2883  (85.78%)\n",
      "Auditory Fine Arts:   2254/2776  (81.2%)\n",
      "Other Fine Arts:      885/1310   (67.56%)\n",
      "Religion:             1673/1913  (87.45%)\n",
      "Mythology:            2011/2305  (87.25%)\n",
      "Philosophy:           1693/1903  (88.96%)\n",
      "Social Science:       1424/1654  (86.09%)\n",
      "Current Events:       250/403    (62.03%)\n",
      "Geography:            1182/1433  (82.48%)\n",
      "Trash:                729/917    (79.5%)\n"
     ]
    }
   ],
   "source": [
    "for i, subcat in enumerate(SUBCATEGORIES):\n",
    "    accuracy = 0.0 if sum(confusion_matrix[i]) == 0 else confusion_matrix[i][i] / sum(confusion_matrix[i])\n",
    "    accuracy = round(100 * accuracy, 2)\n",
    "    print(f'{subcat + \":\":21} {str(confusion_matrix[i][i]) + \"/\" + str(sum(confusion_matrix[i])):10} ({accuracy}%)')"
   ]
  },
  {
   "cell_type": "code",
   "execution_count": 4,
   "metadata": {},
   "outputs": [
    {
     "name": "stdout",
     "output_type": "stream",
     "text": [
      "Confusion Matrix:\n",
      "American Literature  [2396, 109, 119, 120, 27, 3, 9, 3, 2, 0, 6, 2, 2, 9, 4, 26, 6, 22, 29, 17, 6, 9, 113]\n",
      "British Literature   [103, 2180, 72, 38, 14, 2, 12, 7, 4, 2, 1, 1, 3, 8, 6, 11, 7, 20, 11, 4, 0, 3, 31]\n",
      "European Literature  [62, 72, 1633, 45, 6, 1, 12, 1, 1, 1, 0, 1, 2, 4, 3, 15, 7, 14, 11, 1, 1, 4, 12]\n",
      "World Literature     [57, 42, 40, 1229, 8, 0, 3, 10, 1, 2, 1, 0, 2, 2, 3, 6, 7, 27, 8, 2, 3, 2, 9]\n",
      "American History     [67, 12, 5, 3, 2467, 11, 65, 71, 5, 4, 3, 2, 3, 6, 2, 18, 24, 8, 11, 39, 132, 81, 74]\n",
      "Ancient History      [2, 2, 4, 1, 10, 471, 36, 30, 0, 1, 0, 1, 0, 6, 0, 0, 7, 4, 2, 3, 1, 6, 2]\n",
      "European History     [18, 29, 20, 8, 116, 207, 2736, 150, 3, 2, 3, 1, 10, 17, 1, 30, 34, 6, 32, 35, 65, 83, 20]\n",
      "World History        [7, 9, 4, 21, 63, 91, 117, 2068, 4, 0, 3, 1, 4, 7, 0, 12, 33, 10, 11, 19, 116, 106, 15]\n",
      "Biology              [6, 5, 3, 7, 16, 1, 9, 7, 2239, 63, 15, 4, 40, 8, 1, 3, 8, 6, 9, 47, 6, 21, 20]\n",
      "Chemistry            [6, 2, 1, 3, 5, 1, 8, 2, 38, 1848, 140, 7, 24, 1, 4, 3, 1, 0, 1, 6, 2, 3, 8]\n",
      "Physics              [4, 1, 0, 1, 5, 2, 8, 1, 4, 67, 2282, 140, 95, 4, 0, 2, 6, 1, 9, 15, 3, 4, 7]\n",
      "Math                 [0, 1, 1, 0, 0, 0, 0, 1, 2, 0, 12, 643, 39, 0, 0, 0, 0, 0, 2, 8, 0, 3, 0]\n",
      "Other Science        [9, 2, 2, 1, 12, 1, 11, 2, 17, 34, 78, 108, 1242, 7, 4, 2, 6, 2, 8, 121, 12, 27, 13]\n",
      "Visual Fine Arts     [35, 19, 15, 10, 22, 14, 23, 10, 3, 1, 3, 0, 4, 2473, 2, 141, 13, 11, 11, 8, 5, 15, 45]\n",
      "Auditory Fine Arts   [31, 20, 36, 12, 14, 1, 13, 13, 3, 2, 2, 4, 3, 7, 2254, 209, 13, 5, 6, 8, 2, 12, 106]\n",
      "Other Fine Arts      [16, 8, 5, 3, 9, 1, 6, 7, 0, 1, 1, 4, 2, 133, 128, 885, 9, 4, 5, 4, 2, 16, 61]\n",
      "Religion             [8, 10, 8, 7, 19, 9, 30, 24, 2, 1, 1, 0, 1, 5, 0, 7, 1673, 49, 20, 17, 5, 8, 9]\n",
      "Mythology            [16, 26, 23, 15, 10, 36, 10, 11, 3, 0, 3, 0, 3, 15, 4, 4, 64, 2011, 6, 12, 5, 16, 12]\n",
      "Philosophy           [14, 10, 18, 7, 14, 11, 6, 4, 2, 1, 5, 8, 5, 4, 0, 1, 22, 1, 1693, 71, 1, 2, 3]\n",
      "Social Science       [15, 4, 5, 3, 27, 3, 17, 11, 8, 0, 3, 4, 11, 3, 3, 5, 8, 5, 53, 1424, 17, 14, 11]\n",
      "Current Events       [3, 0, 1, 0, 39, 0, 11, 28, 3, 2, 0, 0, 6, 3, 1, 3, 0, 1, 0, 8, 250, 26, 18]\n",
      "Geography            [5, 4, 1, 7, 30, 2, 13, 75, 5, 0, 0, 2, 10, 11, 1, 29, 9, 4, 2, 6, 22, 1182, 13]\n",
      "Trash                [23, 5, 1, 3, 10, 2, 5, 7, 0, 2, 0, 1, 3, 4, 6, 65, 4, 6, 1, 6, 25, 9, 729]\n"
     ]
    }
   ],
   "source": [
    "print('Confusion Matrix:')\n",
    "for subcat, row in zip(SUBCATEGORIES, confusion_matrix):\n",
    "    print(f'{subcat:20}', row)"
   ]
  },
  {
   "cell_type": "code",
   "execution_count": 5,
   "metadata": {},
   "outputs": [
    {
     "data": {
      "text/plain": [
       "<AxesSubplot:>"
      ]
     },
     "execution_count": 5,
     "metadata": {},
     "output_type": "execute_result"
    },
    {
     "data": {
      "image/png": "[encoded data removed]",
      "text/plain": [
       "<Figure size 432x288 with 2 Axes>"
      ]
     },
     "metadata": {
      "needs_background": "light"
     },
     "output_type": "display_data"
    }
   ],
   "source": [
    "sn.heatmap(confusion_matrix, cmap='Greens', annot=False)"
   ]
  },
  {
   "cell_type": "code",
   "execution_count": 10,
   "metadata": {},
   "outputs": [
    {
     "data": {
      "text/plain": [
       "<AxesSubplot:>"
      ]
     },
     "execution_count": 10,
     "metadata": {},
     "output_type": "execute_result"
    },
    {
     "data": {
      "image/png": "[encoded data removed]",
      "text/plain": [
       "<Figure size 432x288 with 2 Axes>"
      ]
     },
     "metadata": {
      "needs_background": "light"
     },
     "output_type": "display_data"
    }
   ],
   "source": [
    "# use relative proportions instead of absolute values\n",
    "sn.heatmap([[confusion_matrix[i][j] / sum(confusion_matrix[i]) for j in range(len(confusion_matrix[i]))] for i in range(len(confusion_matrix))], cmap='Greens', annot=False)"
   ]
  },
  {
   "cell_type": "code",
   "execution_count": null,
   "metadata": {},
   "outputs": [],
   "source": []
  }
 ],
 "metadata": {
  "kernelspec": {
   "display_name": "Python 3.10.0 64-bit",
   "language": "python",
   "name": "python3"
  },
  "language_info": {
   "codemirror_mode": {
    "name": "ipython",
    "version": 3
   },
   "file_extension": ".py",
   "mimetype": "text/x-python",
   "name": "python",
   "nbconvert_exporter": "python",
   "pygments_lexer": "ipython3",
   "version": "3.10.0"
  },
  "orig_nbformat": 4,
  "vscode": {
   "interpreter": {
    "hash": "aee8b7b246df8f9039afb4144a1f6fd8d2ca17a180786b69acc140d282b71a49"
   }
  }
 },
 "nbformat": 4,
 "nbformat_minor": 2
}
