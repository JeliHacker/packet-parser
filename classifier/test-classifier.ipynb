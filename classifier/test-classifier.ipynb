{
 "cells": [
  {
   "cell_type": "code",
   "execution_count": 1,
   "metadata": {},
   "outputs": [],
   "source": [
    "import json\n",
    "import math\n",
    "import time\n",
    "\n",
    "import numpy as np\n",
    "import seaborn as sn\n",
    "from sklearn.metrics import ConfusionMatrixDisplay\n",
    "\n",
    "np.random.seed(0)\n",
    "\n",
    "questions = open('questions.json')\n",
    "questions = questions.readlines()\n",
    "np.random.shuffle(questions)\n",
    "questions = questions[:int(0.2*len(questions))]"
   ]
  },
  {
   "cell_type": "code",
   "execution_count": 2,
   "metadata": {},
   "outputs": [
    {
     "name": "stdout",
     "output_type": "stream",
     "text": [
      "Time to load word-to-subcat-normalized: 1.3760820169991348 seconds\n",
      "=====Begin Testing=====\n",
      "7901/10000\n",
      "15839/20000\n",
      "23745/30000\n",
      "=====End Testing=====\n",
      "Accuracy: 79.13796797991857% (25852/32667)\n",
      "Time: 17.735386330998153 seconds\n"
     ]
    }
   ],
   "source": [
    "def classify_subcategory(text):\n",
    "    likelihoods = [0 for _ in range(len(SUBCATEGORIES))]\n",
    "    text = set(removePunctuation(text).lower().split())\n",
    "    for token in text:\n",
    "        if token in STOP_WORDS:\n",
    "            continue\n",
    "\n",
    "        if token in WORD_TO_SUBCAT:\n",
    "            for i in range(len(SUBCATEGORIES)):\n",
    "                likelihoods[i] += math.log(WORD_TO_SUBCAT[token][i] + 0.00000001)\n",
    "        else:\n",
    "            # print('Token not in word-to-subcat:', token)\n",
    "            pass\n",
    "\n",
    "    max_likelihood = max(likelihoods)\n",
    "    # as far as I can tell, there's always only one valid index\n",
    "    valid_indices = [i for i, likelihood in enumerate(likelihoods) if likelihood == max_likelihood]\n",
    "    return SUBCATEGORIES[np.random.choice(valid_indices)]\n",
    "\n",
    "\n",
    "def hhi(arr):\n",
    "    return sum([_**2 for _ in arr]) / sum(arr) ** 2\n",
    "\n",
    "\n",
    "def normalized_hhi(arr):\n",
    "    return (hhi(arr) - 1/len(arr)) / (1 - 1/len(arr))\n",
    "\n",
    "\n",
    "def removePunctuation(s, punctuation='''.,!-;:'\"\\/?@#$%^&*_~()[]{}“”‘’'''):\n",
    "    return ''.join(ch for ch in s if ch not in punctuation)\n",
    "\n",
    "\n",
    "with open('../stop-words.txt') as f:\n",
    "    STOP_WORDS = set(f.readlines())\n",
    "    STOP_WORDS = set([word.strip() for word in STOP_WORDS])\n",
    "\n",
    "with open('../subcategories.txt') as f:\n",
    "    SUBCATEGORIES = [line.strip() for line in f.readlines()]\n",
    "\n",
    "time_now = time.perf_counter()\n",
    "\n",
    "with open('word-to-subcat-normalized.json') as f:\n",
    "    WORD_TO_SUBCAT = json.load(f)\n",
    "\n",
    "print('Time to load word-to-subcat-normalized:', time.perf_counter() - time_now, 'seconds')\n",
    "\n",
    "print('=====Begin Testing=====')\n",
    "time_now = time.perf_counter()\n",
    "\n",
    "counter = 0\n",
    "correct = 0\n",
    "confusion_matrix = [[0 for _ in range(len(SUBCATEGORIES))] for _ in range(len(SUBCATEGORIES))]\n",
    "\n",
    "for line in questions:\n",
    "    data = json.loads(line)\n",
    "\n",
    "    if 'subcategory' not in data:\n",
    "        continue\n",
    "\n",
    "    subcategory = data['subcategory']\n",
    "\n",
    "    if subcategory not in SUBCATEGORIES:\n",
    "        continue\n",
    "\n",
    "    counter += 1\n",
    "\n",
    "    if data['type'] == 'tossup':\n",
    "        prediction = classify_subcategory(data['question'] + ' ' + data['answer'])\n",
    "\n",
    "    if data['type'] == 'bonus' and 'parts' in data and len(data['parts']) == 3:\n",
    "        prediction = classify_subcategory(data['leadin'] + ' ' + ' '.join(data['parts']) + ' ' + ' '.join(data['answers']))\n",
    "\n",
    "    subcategory_index = SUBCATEGORIES.index(subcategory)\n",
    "    prediction_index = SUBCATEGORIES.index(prediction)\n",
    "\n",
    "    confusion_matrix[subcategory_index][prediction_index] += 1\n",
    "\n",
    "    if subcategory == prediction:\n",
    "        correct += 1\n",
    "\n",
    "    if counter % 10000 == 0:\n",
    "        print(f'{correct}/{counter}')\n",
    "\n",
    "print('=====End Testing=====')\n",
    "print(f'Accuracy: {100 * correct / counter}% ({correct}/{counter})')\n",
    "print(f'Time: {time.perf_counter() - time_now} seconds')\n"
   ]
  },
  {
   "cell_type": "code",
   "execution_count": 3,
   "metadata": {},
   "outputs": [
    {
     "name": "stdout",
     "output_type": "stream",
     "text": [
      "American Literature:  1603/1929  (83.1%)\n",
      "British Literature:   1331/1603  (83.03%)\n",
      "European Literature:  1028/1295  (79.38%)\n",
      "World Literature:     703/1045   (67.27%)\n",
      "American History:     1750/2035  (86.0%)\n",
      "Ancient History:      151/496    (30.44%)\n",
      "European History:     2147/2410  (89.09%)\n",
      "World History:        1542/1947  (79.2%)\n",
      "Biology:              1680/1849  (90.86%)\n",
      "Chemistry:            1329/1573  (84.49%)\n",
      "Physics:              1624/1775  (91.49%)\n",
      "Math:                 348/611    (56.96%)\n",
      "Other Science:        915/1334   (68.59%)\n",
      "Visual Fine Arts:     1808/2021  (89.46%)\n",
      "Auditory Fine Arts:   1822/2055  (88.66%)\n",
      "Other Fine Arts:      434/1021   (42.51%)\n",
      "Religion:             1181/1457  (81.06%)\n",
      "Mythology:            1490/1673  (89.06%)\n",
      "Philosophy:           1136/1330  (85.41%)\n",
      "Social Science:       928/1203   (77.14%)\n",
      "Current Events:       13/364     (3.57%)\n",
      "Geography:            586/968    (60.54%)\n",
      "Trash:                303/673    (45.02%)\n"
     ]
    }
   ],
   "source": [
    "for i, subcat in enumerate(SUBCATEGORIES):\n",
    "    accuracy = 0.0 if sum(confusion_matrix[i]) == 0 else confusion_matrix[i][i] / sum(confusion_matrix[i])\n",
    "    accuracy = round(100 * accuracy, 2)\n",
    "    print(f'{subcat + \":\":21} {str(confusion_matrix[i][i]) + \"/\" + str(sum(confusion_matrix[i])):10} ({accuracy}%)')"
   ]
  },
  {
   "cell_type": "code",
   "execution_count": 4,
   "metadata": {},
   "outputs": [
    {
     "name": "stdout",
     "output_type": "stream",
     "text": [
      "Confusion Matrix:\n",
      "American Literature  [1603, 74, 57, 38, 51, 0, 18, 11, 0, 1, 2, 0, 3, 15, 8, 4, 1, 9, 17, 6, 0, 1, 10]\n",
      "British Literature   [110, 1331, 42, 18, 15, 0, 22, 4, 2, 1, 1, 0, 2, 12, 4, 1, 8, 16, 6, 5, 0, 1, 2]\n",
      "European Literature  [77, 72, 1028, 25, 2, 0, 22, 3, 0, 0, 1, 0, 2, 18, 8, 2, 1, 18, 9, 3, 0, 1, 3]\n",
      "World Literature     [143, 66, 34, 703, 11, 0, 10, 23, 0, 0, 0, 0, 3, 5, 4, 1, 2, 29, 6, 3, 0, 2, 0]\n",
      "American History     [42, 9, 1, 2, 1750, 1, 86, 81, 0, 0, 0, 0, 1, 12, 5, 2, 7, 4, 2, 9, 0, 16, 5]\n",
      "Ancient History      [0, 4, 2, 1, 6, 151, 238, 63, 1, 0, 0, 0, 1, 13, 0, 0, 3, 12, 1, 0, 0, 0, 0]\n",
      "European History     [14, 21, 8, 1, 59, 16, 2147, 80, 0, 0, 3, 0, 2, 19, 4, 1, 8, 7, 3, 4, 0, 13, 0]\n",
      "World History        [7, 12, 2, 11, 84, 7, 202, 1542, 4, 0, 2, 0, 1, 7, 2, 2, 15, 11, 1, 8, 1, 23, 3]\n",
      "Biology              [14, 4, 2, 1, 21, 1, 6, 4, 1680, 38, 13, 1, 24, 5, 4, 1, 1, 3, 1, 14, 0, 7, 4]\n",
      "Chemistry            [3, 2, 0, 0, 7, 0, 4, 7, 44, 1329, 133, 2, 26, 2, 1, 1, 1, 0, 2, 7, 0, 0, 2]\n",
      "Physics              [8, 3, 0, 0, 8, 0, 4, 2, 2, 45, 1624, 9, 48, 3, 1, 1, 1, 0, 2, 12, 0, 0, 2]\n",
      "Math                 [1, 1, 1, 0, 1, 0, 5, 0, 5, 1, 120, 348, 106, 0, 2, 0, 2, 0, 7, 8, 0, 2, 1]\n",
      "Other Science        [10, 2, 1, 1, 24, 0, 8, 6, 60, 34, 98, 49, 915, 6, 3, 3, 2, 0, 7, 93, 0, 12, 0]\n",
      "Visual Fine Arts     [37, 16, 14, 7, 22, 1, 22, 12, 2, 0, 0, 0, 5, 1808, 12, 27, 11, 6, 9, 1, 0, 3, 6]\n",
      "Auditory Fine Arts   [37, 15, 20, 5, 20, 0, 23, 5, 0, 1, 3, 1, 5, 5, 1822, 41, 8, 9, 3, 10, 0, 6, 16]\n",
      "Other Fine Arts      [45, 11, 8, 0, 16, 0, 19, 15, 0, 0, 1, 0, 2, 213, 230, 434, 2, 3, 5, 2, 0, 7, 8]\n",
      "Religion             [8, 9, 6, 3, 23, 1, 58, 50, 2, 0, 2, 0, 1, 12, 7, 0, 1181, 65, 18, 5, 0, 3, 3]\n",
      "Mythology            [16, 21, 11, 1, 12, 4, 22, 18, 4, 1, 3, 0, 3, 10, 2, 1, 40, 1490, 4, 6, 0, 3, 1]\n",
      "Philosophy           [24, 14, 8, 5, 14, 3, 33, 3, 1, 0, 3, 3, 6, 4, 0, 0, 17, 4, 1136, 48, 0, 0, 4]\n",
      "Social Science       [12, 3, 1, 3, 78, 0, 28, 20, 13, 2, 1, 0, 20, 5, 1, 1, 8, 2, 71, 928, 0, 3, 3]\n",
      "Current Events       [6, 0, 1, 0, 148, 0, 49, 110, 4, 0, 2, 0, 5, 2, 3, 0, 1, 0, 2, 6, 13, 10, 2]\n",
      "Geography            [15, 0, 0, 2, 62, 1, 92, 140, 2, 0, 1, 1, 11, 20, 4, 5, 5, 9, 2, 3, 2, 586, 5]\n",
      "Trash                [97, 10, 3, 2, 60, 0, 22, 8, 1, 0, 1, 1, 3, 33, 49, 56, 1, 8, 0, 2, 0, 13, 303]\n"
     ]
    }
   ],
   "source": [
    "print('Confusion Matrix:')\n",
    "for subcat, row in zip(SUBCATEGORIES, confusion_matrix):\n",
    "    print(f'{subcat:20}', row)"
   ]
  },
  {
   "cell_type": "code",
   "execution_count": 5,
   "metadata": {},
   "outputs": [
    {
     "data": {
      "text/plain": [
       "<AxesSubplot:>"
      ]
     },
     "execution_count": 5,
     "metadata": {},
     "output_type": "execute_result"
    },
    {
     "data": {
      "image/png": "[encoded data removed]",
      "text/plain": [
       "<Figure size 432x288 with 2 Axes>"
      ]
     },
     "metadata": {
      "needs_background": "light"
     },
     "output_type": "display_data"
    }
   ],
   "source": [
    "sn.heatmap(confusion_matrix, cmap='Greens', annot=False)"
   ]
  },
  {
   "cell_type": "code",
   "execution_count": 6,
   "metadata": {},
   "outputs": [],
   "source": [
    "# ConfusionMatrixDisplay(np.array(confusion_matrix), display_labels='').plot()"
   ]
  }
 ],
 "metadata": {
  "kernelspec": {
   "display_name": "Python 3.10.0 64-bit",
   "language": "python",
   "name": "python3"
  },
  "language_info": {
   "codemirror_mode": {
    "name": "ipython",
    "version": 3
   },
   "file_extension": ".py",
   "mimetype": "text/x-python",
   "name": "python",
   "nbconvert_exporter": "python",
   "pygments_lexer": "ipython3",
   "version": "3.10.0"
  },
  "orig_nbformat": 4,
  "vscode": {
   "interpreter": {
    "hash": "aee8b7b246df8f9039afb4144a1f6fd8d2ca17a180786b69acc140d282b71a49"
   }
  }
 },
 "nbformat": 4,
 "nbformat_minor": 2
}
