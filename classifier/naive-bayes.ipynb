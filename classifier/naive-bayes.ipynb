{
 "cells": [
  {
   "cell_type": "code",
   "execution_count": 1,
   "metadata": {},
   "outputs": [],
   "source": [
    "from collections import Counter\n",
    "import json\n",
    "from math import log\n",
    "import numpy as np\n",
    "from nltk.stem import PorterStemmer\n",
    "from tqdm import tqdm\n",
    "\n",
    "np.random.seed(0)"
   ]
  },
  {
   "cell_type": "code",
   "execution_count": 15,
   "metadata": {},
   "outputs": [],
   "source": [
    "def bag_of_words(text, dictionary):\n",
    "    bag = [0] * len(dictionary)\n",
    "    for word in text:\n",
    "        if word in dictionary:\n",
    "            bag[dictionary[word]] += 1\n",
    "\n",
    "    return bag\n",
    "\n",
    "def generate_dictionary(subcategory_questions):\n",
    "    \"\"\"\n",
    "    Generate dictionary for bag of words\n",
    "    \"\"\"\n",
    "\n",
    "    dictionary = set()\n",
    "    for subcat in subcategory_questions:\n",
    "        for question in subcategory_questions[subcat]:\n",
    "            dictionary.update(question)\n",
    "\n",
    "    dictionary = list(dictionary)\n",
    "    dictionary = {dictionary[i]: i for i in range(len(dictionary))}\n",
    "    return dictionary\n",
    "\n",
    "def naive_bayes(vector, sparse_encodings):\n",
    "    counts = {\n",
    "        subcat: {word_index: 0 for word_index in vector}\n",
    "        for subcat in sparse_encodings\n",
    "    }\n",
    "\n",
    "    for subcat in sparse_encodings:\n",
    "        for x in sparse_encodings[subcat]:\n",
    "            for word_index in x:\n",
    "                if word_index in vector and vector[word_index] == x[word_index]:\n",
    "                    counts[subcat][word_index] += 1\n",
    "\n",
    "    sums = {\n",
    "        subcat: log(len(sparse_encodings[subcat])) + sum([log(counts[subcat][word_index]) for word_index in counts[subcat] if counts[subcat][word_index] > 0])\n",
    "        for subcat in counts\n",
    "    }\n",
    "\n",
    "    return max(sums, key=sums.get)\n",
    "\n",
    "def naive_bayes_from_summary(vector, summary, class_priors, subcategories):\n",
    "    token_counter = Counter(vector)\n",
    "\n",
    "    counts = {\n",
    "        # subcat: [summary[token][subcat][token_counter[token]]/sum(summary[token][subcat].values()) for token in token_counter if token in summary and token_counter[token] in summary[token][subcat]]\n",
    "        subcat: [summary[token][subcat][token_counter[token]] for token in token_counter if token in summary and token_counter[token] in summary[token][subcat]]\n",
    "        for subcat in subcategories\n",
    "    }\n",
    "\n",
    "    sums = {\n",
    "        subcat: log(class_priors[subcat]) + sum([log(count) for count in counts[subcat] if count > 0])\n",
    "        for subcat in counts\n",
    "    }\n",
    "\n",
    "    return max(sums, key=sums.get)\n",
    "\n",
    "def sparse_bag_of_words(text, dictionary):\n",
    "    \"\"\"\n",
    "    Generate a sparse bag of words.\n",
    "    Has the same effect as calling `sparsify(bag_of_words(text, dictionary))`, but is much more memory and time efficient.\n",
    "    \"\"\"\n",
    "\n",
    "    bag = {dictionary[word]: 0 for word in text if word in dictionary}\n",
    "    for word in text:\n",
    "        if word in dictionary:\n",
    "            bag[dictionary[word]] += 1\n",
    "\n",
    "    return bag\n",
    "\n",
    "def sparsify(vector):\n",
    "    return {index: count for index, count in enumerate(vector) if not count == 0}\n",
    "\n",
    "def removePunctuation(s, punctuation='''.,!-;:'\"\\/?@#$%^&*_~()[]{}“”‘’'''):\n",
    "    return ''.join(ch for ch in s if ch not in punctuation)"
   ]
  },
  {
   "cell_type": "code",
   "execution_count": 3,
   "metadata": {},
   "outputs": [],
   "source": [
    "ps = PorterStemmer()\n",
    "\n",
    "with open('../stop-words.txt') as f:\n",
    "    stop_words = set(f.readlines())\n",
    "    stop_words = set([word.strip() for word in stop_words])\n",
    "\n",
    "with open('../subcategories.txt') as f:\n",
    "    SUBCATEGORIES = [line.strip() for line in f.readlines()]\n",
    "\n",
    "questions = open('questions.json')\n",
    "questions = questions.readlines()\n",
    "np.random.shuffle(questions)"
   ]
  },
  {
   "cell_type": "code",
   "execution_count": 4,
   "metadata": {},
   "outputs": [
    {
     "name": "stderr",
     "output_type": "stream",
     "text": [
      "100%|██████████| 133648/133648 [02:46<00:00, 804.20it/s]\n"
     ]
    }
   ],
   "source": [
    "subcategory_questions = {subcat: [] for subcat in SUBCATEGORIES}\n",
    "naive_bayes_data = {}\n",
    "class_priors = {subcat: 0 for subcat in SUBCATEGORIES}\n",
    "\n",
    "for line in tqdm(questions[int(0.2*len(questions)):]):\n",
    "    data = json.loads(line)\n",
    "\n",
    "    if 'subcategory' not in data: continue\n",
    "    subcategory = data['subcategory']\n",
    "    if subcategory not in SUBCATEGORIES: continue\n",
    "\n",
    "    if data['type'] == 'tossup':\n",
    "        tokens = removePunctuation(data['question']).lower().split()\n",
    "    if data['type'] == 'bonus' and 'parts' in data and len(data['parts']) == 3:\n",
    "        tokens = removePunctuation(data['leadin'] + ' ' + data['parts'][0] + data['parts'][1] + data['parts'][2]).lower().split()\n",
    "\n",
    "    tokens = [token for token in tokens if token not in stop_words]\n",
    "    tokens = [ps.stem(token) for token in tokens]\n",
    "\n",
    "    token_counter = Counter(tokens)\n",
    "\n",
    "    for token in tokens:\n",
    "        if token not in naive_bayes_data:\n",
    "            naive_bayes_data[token] = {subcat: {} for subcat in SUBCATEGORIES}\n",
    "\n",
    "        naive_bayes_data[token][subcategory][token_counter[token]] = naive_bayes_data[token][subcategory].get(token_counter[token], 0) + 1\n",
    "\n",
    "    class_priors[subcategory] += 1\n",
    "\n",
    "    # subcategory_questions[subcategory].append(tokens)"
   ]
  },
  {
   "cell_type": "code",
   "execution_count": 5,
   "metadata": {},
   "outputs": [],
   "source": [
    "# dictionary = generate_dictionary(subcategory_questions)\n",
    "# print('Size of dictionary:', len(dictionary), 'words')"
   ]
  },
  {
   "cell_type": "code",
   "execution_count": 6,
   "metadata": {},
   "outputs": [],
   "source": [
    "# encodings = {\n",
    "#     subcat: [bag_of_words(question, dictionary) for question in tqdm(subcategory_questions[subcat])]\n",
    "#     for subcat in SUBCATEGORIES\n",
    "# }"
   ]
  },
  {
   "cell_type": "code",
   "execution_count": 7,
   "metadata": {},
   "outputs": [],
   "source": [
    "# encodings_sparse = {\n",
    "#     subcat: [sparse_bag_of_words(vector, dictionary) for vector in tqdm(subcategory_questions[subcat])]\n",
    "#     for subcat in SUBCATEGORIES\n",
    "# }"
   ]
  },
  {
   "cell_type": "code",
   "execution_count": 19,
   "metadata": {},
   "outputs": [
    {
     "name": "stdout",
     "output_type": "stream",
     "text": [
      "=====Begin Testing=====\n",
      "6697/10000\n",
      "13445/20000\n",
      "20133/30000\n",
      "=====End Testing=====\n",
      "Accuracy: 0.6727447794427394 (22358/33234)\n",
      "Time: 66.06431898201117 seconds\n"
     ]
    }
   ],
   "source": [
    "import seaborn as sn\n",
    "from sklearn.metrics import ConfusionMatrixDisplay\n",
    "import time\n",
    "\n",
    "print('=====Begin Testing=====')\n",
    "time_now = time.perf_counter()\n",
    "\n",
    "counter = 0\n",
    "correct = 0\n",
    "confusion_matrix = [\n",
    "    [0 for _ in range(len(SUBCATEGORIES))]\n",
    "    for _ in range(len(SUBCATEGORIES))\n",
    "]\n",
    "\n",
    "for line in questions[:int(0.2*len(questions))]:\n",
    "    data = json.loads(line)\n",
    "    if 'subcategory' not in data:\n",
    "        continue\n",
    "\n",
    "    counter += 1\n",
    "    subcategory = data['subcategory']\n",
    "    if subcategory not in SUBCATEGORIES:\n",
    "        continue\n",
    "\n",
    "    if data['type'] == 'tossup':\n",
    "        text = data['question']\n",
    "    elif data['type'] == 'bonus' and 'parts' in data and len(data['parts']) == 3:\n",
    "        text = data['leadin'] + ' ' + data['parts'][0] + data['parts'][1] + data['parts'][2]\n",
    "    else:\n",
    "        continue\n",
    "\n",
    "    text = removePunctuation(text).lower().split()\n",
    "    tokens = [token for token in text if token not in stop_words]\n",
    "    tokens = [ps.stem(token) for token in tokens]\n",
    "    prediction = naive_bayes_from_summary(tokens, naive_bayes_data, class_priors, SUBCATEGORIES)\n",
    "    subcategory_index = SUBCATEGORIES.index(subcategory)\n",
    "    prediction_index = SUBCATEGORIES.index(prediction)\n",
    "\n",
    "    confusion_matrix[subcategory_index][prediction_index] += 1\n",
    "\n",
    "    if subcategory == prediction:\n",
    "        correct += 1\n",
    "\n",
    "    if counter % 10000 == 0:\n",
    "        print(f'{correct}/{counter}')\n",
    "\n",
    "print('=====End Testing=====')\n",
    "print(f'Accuracy: {correct / counter} ({correct}/{counter})')\n",
    "print('Time:', time.perf_counter() - time_now, 'seconds')"
   ]
  },
  {
   "cell_type": "code",
   "execution_count": 20,
   "metadata": {},
   "outputs": [
    {
     "name": "stdout",
     "output_type": "stream",
     "text": [
      "Confusion Matrix:\n",
      "American Literature  [1555, 47, 0, 16, 7, 0, 42, 0, 27, 7, 0, 0, 1, 2, 0, 0, 13, 7, 0, 3, 7, 11, 10, 0, 1, 0, 0]\n",
      "British Literature   [302, 1099, 0, 10, 0, 0, 11, 0, 50, 3, 0, 0, 0, 0, 0, 0, 8, 7, 0, 4, 9, 9, 1, 0, 1, 0, 0]\n",
      "Classical Literature [38, 27, 0, 1, 3, 0, 0, 0, 4, 0, 0, 0, 0, 0, 0, 0, 1, 1, 0, 0, 29, 4, 0, 0, 0, 0, 0]\n",
      "European Literature  [365, 80, 0, 654, 6, 0, 4, 0, 51, 2, 0, 0, 0, 1, 0, 2, 16, 10, 0, 2, 12, 7, 1, 0, 1, 0, 0]\n",
      "World Literature     [600, 50, 0, 13, 232, 0, 13, 0, 24, 26, 0, 0, 0, 2, 0, 1, 9, 4, 0, 1, 22, 2, 1, 0, 1, 0, 0]\n",
      "Other Literature     [151, 62, 0, 9, 8, 0, 8, 0, 5, 4, 0, 1, 0, 0, 0, 1, 2, 6, 0, 0, 4, 4, 1, 0, 0, 0, 0]\n",
      "American History     [38, 2, 0, 1, 1, 0, 1623, 0, 129, 49, 0, 0, 0, 1, 0, 3, 7, 2, 1, 3, 2, 2, 4, 0, 6, 0, 0]\n",
      "Ancient History      [4, 2, 0, 0, 0, 0, 7, 3, 414, 56, 0, 0, 0, 1, 0, 1, 10, 0, 0, 6, 9, 0, 1, 0, 1, 0, 0]\n",
      "European History     [24, 15, 0, 1, 0, 0, 75, 0, 2142, 52, 0, 2, 1, 5, 0, 1, 17, 4, 0, 4, 5, 4, 6, 0, 6, 0, 0]\n",
      "World History        [18, 2, 0, 0, 5, 0, 80, 0, 339, 1320, 0, 0, 0, 1, 0, 2, 21, 3, 1, 13, 5, 2, 4, 0, 9, 0, 0]\n",
      "Other History        [2, 0, 0, 0, 0, 0, 44, 0, 157, 84, 0, 2, 0, 0, 0, 0, 3, 0, 0, 1, 1, 1, 0, 0, 0, 0, 0]\n",
      "Biology              [17, 2, 0, 0, 2, 0, 19, 0, 17, 7, 0, 1617, 38, 37, 0, 18, 5, 2, 0, 2, 2, 5, 16, 0, 6, 0, 0]\n",
      "Chemistry            [8, 3, 0, 0, 0, 0, 15, 0, 5, 2, 0, 45, 1206, 211, 2, 20, 2, 4, 0, 0, 0, 3, 4, 0, 2, 0, 0]\n",
      "Physics              [11, 2, 0, 0, 0, 0, 7, 0, 16, 4, 0, 6, 24, 1654, 1, 22, 3, 1, 0, 1, 0, 1, 8, 0, 0, 0, 0]\n",
      "Math                 [4, 1, 0, 0, 0, 0, 5, 0, 2, 1, 0, 1, 2, 406, 83, 68, 1, 0, 0, 1, 0, 11, 3, 0, 0, 0, 0]\n",
      "Other Science        [21, 1, 0, 1, 0, 0, 47, 0, 31, 8, 0, 42, 27, 213, 4, 753, 9, 9, 0, 5, 6, 12, 70, 0, 5, 0, 0]\n",
      "Visual Fine Arts     [53, 11, 0, 6, 2, 0, 18, 0, 24, 4, 0, 0, 0, 2, 0, 0, 1743, 8, 13, 4, 3, 3, 1, 0, 2, 0, 0]\n",
      "Auditory Fine Arts   [69, 8, 0, 9, 0, 0, 27, 0, 20, 6, 0, 0, 0, 3, 0, 3, 17, 1733, 3, 6, 5, 5, 2, 0, 0, 0, 0]\n",
      "Other Fine Arts      [134, 5, 0, 3, 0, 0, 35, 0, 28, 6, 0, 1, 0, 2, 0, 0, 311, 328, 161, 2, 3, 2, 1, 0, 2, 0, 0]\n",
      "Religion             [42, 3, 0, 0, 0, 0, 38, 0, 126, 42, 0, 0, 0, 1, 0, 0, 19, 4, 1, 1030, 57, 21, 0, 0, 3, 0, 0]\n",
      "Mythology            [39, 10, 0, 1, 0, 0, 11, 0, 43, 21, 0, 0, 2, 0, 0, 6, 21, 2, 0, 23, 1344, 2, 6, 0, 0, 0, 0]\n",
      "Philosophy           [49, 7, 0, 3, 0, 0, 15, 0, 35, 4, 0, 0, 0, 7, 0, 3, 3, 3, 0, 17, 3, 1099, 21, 0, 0, 0, 0]\n",
      "Social Science       [28, 3, 0, 2, 1, 0, 121, 0, 68, 17, 0, 11, 0, 11, 0, 6, 10, 4, 0, 3, 2, 84, 825, 0, 3, 0, 0]\n",
      "Current Events       [7, 0, 0, 0, 0, 0, 205, 0, 68, 79, 0, 0, 0, 1, 0, 1, 4, 1, 0, 0, 0, 0, 1, 0, 2, 0, 1]\n",
      "Geography            [14, 0, 0, 1, 0, 0, 141, 0, 147, 199, 0, 4, 0, 2, 0, 9, 36, 3, 5, 5, 3, 1, 2, 0, 434, 0, 0]\n",
      "Other Academic       [42, 5, 0, 0, 0, 0, 60, 0, 40, 12, 0, 5, 1, 2, 0, 3, 37, 21, 1, 1, 5, 8, 13, 0, 0, 0, 0]\n",
      "Trash                [269, 4, 0, 0, 0, 0, 150, 0, 49, 9, 0, 0, 1, 1, 0, 5, 50, 65, 4, 2, 4, 1, 3, 0, 4, 0, 48]\n"
     ]
    }
   ],
   "source": [
    "print('Confusion Matrix:')\n",
    "for subcat, row in zip(SUBCATEGORIES, confusion_matrix):\n",
    "    print(f'{subcat:20}', row)"
   ]
  },
  {
   "cell_type": "code",
   "execution_count": 21,
   "metadata": {},
   "outputs": [
    {
     "data": {
      "text/plain": [
       "<AxesSubplot:>"
      ]
     },
     "execution_count": 21,
     "metadata": {},
     "output_type": "execute_result"
    },
    {
     "data": {
      "image/png": "[encoded data removed]",
      "text/plain": [
       "<Figure size 432x288 with 2 Axes>"
      ]
     },
     "metadata": {
      "needs_background": "light"
     },
     "output_type": "display_data"
    }
   ],
   "source": [
    "sn.heatmap(confusion_matrix, cmap='Greens', annot=False)"
   ]
  },
  {
   "cell_type": "code",
   "execution_count": null,
   "metadata": {},
   "outputs": [],
   "source": []
  }
 ],
 "metadata": {
  "kernelspec": {
   "display_name": "Python 3.10.0 64-bit",
   "language": "python",
   "name": "python3"
  },
  "language_info": {
   "codemirror_mode": {
    "name": "ipython",
    "version": 3
   },
   "file_extension": ".py",
   "mimetype": "text/x-python",
   "name": "python",
   "nbconvert_exporter": "python",
   "pygments_lexer": "ipython3",
   "version": "3.10.0"
  },
  "orig_nbformat": 4,
  "vscode": {
   "interpreter": {
    "hash": "aee8b7b246df8f9039afb4144a1f6fd8d2ca17a180786b69acc140d282b71a49"
   }
  }
 },
 "nbformat": 4,
 "nbformat_minor": 2
}
