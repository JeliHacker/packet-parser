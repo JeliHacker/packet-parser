{
    "cells": [
        {
            "attachments": {},
            "cell_type": "markdown",
            "metadata": {},
            "source": [
                "Note: needs the questions.json file in the same directory as this file.\n",
                "\n",
                "- It should contain all of the questions in the database dumped from mongodb."
            ]
        },
        {
            "cell_type": "code",
            "execution_count": 1,
            "metadata": {},
            "outputs": [],
            "source": [
                "import json\n",
                "import numpy as np\n",
                "\n",
                "from matplotlib import pyplot as plt\n",
                "from tqdm import tqdm\n",
                "\n",
                "np.random.seed(0)"
            ]
        },
        {
            "cell_type": "code",
            "execution_count": 2,
            "metadata": {},
            "outputs": [
                {
                    "name": "stdout",
                    "output_type": "stream",
                    "text": [
                        "Number of questions: 237637\n"
                    ]
                },
                {
                    "name": "stderr",
                    "output_type": "stream",
                    "text": [
                        "100%|██████████| 237637/237637 [00:38<00:00, 6121.90it/s]\n"
                    ]
                }
            ],
            "source": [
                "def hhi(arr):\n",
                "    return sum([_**2 for _ in arr]) / sum(arr) ** 2\n",
                "\n",
                "\n",
                "def normalized_hhi(arr):\n",
                "    return (hhi(arr) - 1/len(arr)) / (1 - 1/len(arr))\n",
                "\n",
                "\n",
                "def removePunctuation(s, punctuation='''.,!-;:'\"\\/?@#$%^&*_~()[]{}“”‘’'''):\n",
                "    return ''.join(ch for ch in s if ch not in punctuation)\n",
                "\n",
                "\n",
                "questions = open('tossups.json').readlines() + open('bonuses.json').readlines()\n",
                "np.random.shuffle(questions)\n",
                "print('Number of questions:', len(questions))\n",
                "\n",
                "with open('stop-words.txt') as f:\n",
                "    stop_words = set(f.readlines())\n",
                "    stop_words = set([word.strip() for word in stop_words])\n",
                "\n",
                "with open('subcategories.txt') as f:\n",
                "    SUBCATEGORIES = [line.strip() for line in f.readlines()]\n",
                "\n",
                "word_to_subcat = {}\n",
                "\n",
                "for line in tqdm(questions):\n",
                "    data = json.loads(line)\n",
                "    if 'subcategory' not in data: continue\n",
                "\n",
                "    subcategory = data['subcategory']\n",
                "\n",
                "    if subcategory not in SUBCATEGORIES: continue\n",
                "    subcategory_index = SUBCATEGORIES.index(subcategory)\n",
                "\n",
                "    if data['type'] == 'tossup':\n",
                "        tokens = removePunctuation(data['question']).lower().split()\n",
                "    if data['type'] == 'bonus' and 'parts' in data and len(data['parts']) == 3:\n",
                "        tokens = removePunctuation(data['leadin'] + ' ' + data['parts'][0] + data['parts'][1] + data['parts'][2]).lower().split()\n",
                "\n",
                "    tokens = [token for token in tokens if token not in stop_words]\n",
                "    for token in tokens:\n",
                "        if token not in word_to_subcat:\n",
                "            word_to_subcat[token] = [0 for _ in range(len(SUBCATEGORIES))]\n",
                "\n",
                "        word_to_subcat[token][subcategory_index] += 1"
            ]
        },
        {
            "cell_type": "code",
            "execution_count": 3,
            "metadata": {},
            "outputs": [],
            "source": [
                "factors = {}\n",
                "\n",
                "for word in word_to_subcat:\n",
                "    factors[word] = normalized_hhi(word_to_subcat[word])"
            ]
        },
        {
            "cell_type": "code",
            "execution_count": 4,
            "metadata": {},
            "outputs": [],
            "source": [
                "hhis = list(factors.values())\n",
                "hhis.sort()"
            ]
        },
        {
            "cell_type": "code",
            "execution_count": 5,
            "metadata": {},
            "outputs": [
                {
                    "name": "stdout",
                    "output_type": "stream",
                    "text": [
                        "Average HHI: 0.8315991264473938\n",
                        "Median HHI: 1.0\n",
                        "387639 words with HHI = 1.0\n"
                    ]
                }
            ],
            "source": [
                "n = len(hhis)\n",
                "\n",
                "print(f'Average HHI: {sum(hhis) / len(hhis)}')\n",
                "print(f'Median HHI: {hhis[n // 2]}')\n",
                "print(f'{len([i for i in hhis if i == 1.0])} words with HHI = 1.0')"
            ]
        },
        {
            "cell_type": "code",
            "execution_count": 6,
            "metadata": {},
            "outputs": [
                {
                    "data": {
                        "image/png": "[encoded data removed]",
                        "text/plain": [
                            "<Figure size 432x288 with 1 Axes>"
                        ]
                    },
                    "metadata": {
                        "needs_background": "light"
                    },
                    "output_type": "display_data"
                }
            ],
            "source": [
                "plt.plot(hhis)\n",
                "plt.show()"
            ]
        },
        {
            "cell_type": "code",
            "execution_count": 7,
            "metadata": {},
            "outputs": [
                {
                    "data": {
                        "image/png": "[encoded data removed]",
                        "text/plain": [
                            "<Figure size 432x288 with 1 Axes>"
                        ]
                    },
                    "metadata": {
                        "needs_background": "light"
                    },
                    "output_type": "display_data"
                }
            ],
            "source": [
                "plt.hist(hhis)\n",
                "plt.show()"
            ]
        }
    ],
    "metadata": {
        "kernelspec": {
            "display_name": "Python 3",
            "language": "python",
            "name": "python3"
        },
        "language_info": {
            "codemirror_mode": {
                "name": "ipython",
                "version": 3
            },
            "file_extension": ".py",
            "mimetype": "text/x-python",
            "name": "python",
            "nbconvert_exporter": "python",
            "pygments_lexer": "ipython3",
            "version": "3.10.0"
        },
        "orig_nbformat": 4,
        "vscode": {
            "interpreter": {
                "hash": "aee8b7b246df8f9039afb4144a1f6fd8d2ca17a180786b69acc140d282b71a49"
            }
        }
    },
    "nbformat": 4,
    "nbformat_minor": 2
}
